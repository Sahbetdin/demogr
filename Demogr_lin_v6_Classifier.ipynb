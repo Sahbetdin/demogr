{
 "cells": [
  {
   "cell_type": "markdown",
   "id": "7bc12b9a",
   "metadata": {},
   "source": [
    "### Take all vars and do boost"
   ]
  },
  {
   "cell_type": "markdown",
   "id": "693cbcba",
   "metadata": {},
   "source": [
    "##### here we do preprocessing with filling in Nan values with medians or averages"
   ]
  },
  {
   "cell_type": "raw",
   "id": "d13c53fd-230d-438d-a204-a9d602d00596",
   "metadata": {},
   "source": []
  },
  {
   "cell_type": "code",
   "execution_count": 1,
   "id": "71dbdd3c",
   "metadata": {},
   "outputs": [],
   "source": [
    "import pandas as pd\n",
    "pd.options.display.max_columns=500\n",
    "import numpy as np\n",
    "import os, pickle\n",
    "import matplotlib.pyplot as plt\n",
    "import seaborn as sns\n",
    "\n",
    "# import scipy.stats as stats\n",
    "\n",
    "from sklearn import ensemble, model_selection, metrics, datasets, tree, linear_model\n",
    "import xgboost as xgb\n",
    "\n",
    "from sklearn.linear_model import LinearRegression\n",
    "from sklearn.metrics import r2_score\n",
    "import statsmodels.api as sm\n",
    "\n",
    "from scipy.stats import spearmanr\n",
    "from scipy.cluster import hierarchy\n",
    "\n",
    "from sklearn.impute import SimpleImputer\n",
    "\n",
    "from sklearn.metrics import accuracy_score\n",
    "from sklearn.metrics import f1_score"
   ]
  },
  {
   "cell_type": "markdown",
   "id": "9a38739e",
   "metadata": {},
   "source": [
    "## Work with Russia ( 643 )"
   ]
  },
  {
   "cell_type": "code",
   "execution_count": 2,
   "id": "dbe6de08",
   "metadata": {},
   "outputs": [],
   "source": [
    "with open(\"only_rus.pck\", \"br\") as f:\n",
    "    df_r=pickle.load(f)"
   ]
  },
  {
   "cell_type": "code",
   "execution_count": 3,
   "id": "e957591d",
   "metadata": {},
   "outputs": [],
   "source": [
    "df1=df_r.drop(['version','doi','A_WAVE','A_STUDY','B_COUNTRY','B_COUNTRY_ALPHA',\n",
    "          'C_COW_NUM','C_COW_ALPHA','A_YEAR','D_INTERVIEW','J_INTDATE','FW_END',\n",
    "          'FW_START','K_TIME_START','K_TIME_END','K_DURATION','Q_MODE','N_REGION_ISO',\n",
    "          'N_REGION_WVS','N_TOWN','G_TOWNSIZE','H_SETTLEMENT','I_PSU','O1_LONGITUDE',\n",
    "        'O2_LATITUDE','S_INTLANGUAGE','LNGE_ISO','E_RESPINT','F_INTPRIVACY','W_WEIGHT',\n",
    "        'S018','Q33_3','Q34_3','Q35_3','Q82','Q82_EU','Q82_APEC','Q82_ARABLEAGUE','Q82_ASEAN',\n",
    "        'Q82_AFRICANUNION','Q82_CIS','Q82_ECO','Q82_GULFCOOP','Q82_ISLCOOP','Q82_MERCOSUR',\n",
    "        'Q82_NAFTA','Q82_OAS','Q82_SAARC','Q82_SCO','Q82_TLC','Q82_UNDP','Q91','Q92','Q93',\n",
    "        'Q223','Q223_ABREV','Q223_LOCAL','Partyname','Partyabb','CPARTY','CPARTYABB',\n",
    "        'v2psprlnks','v2xnp_client','v2xps_party','v2psbars','v2psorgs','v2psprbrch',\n",
    "        'v2psplats','WVS_LibCon_PartyVoter','WVS_Polmistrust_PartyVoter','WVS_LR_MedianVoter',\n",
    "        'GPS_V6_Scale','GPS_V8_Scale','GPS_V9','GPS_V10',\n",
    "        'GPS_V11','GPS_V12','GPS_V13','GPS_V14',\n",
    "        'GPS_V15','GPS_V16','GPS_V17','WVS_LR_PartyVoter','WVS_LibCon_MedianVoter',\n",
    "        'ID_GPS','ID_PartyFacts','Type_Values','Type_Populism','Type_Populist_Values',\n",
    "        'Type_Partysize_vote','Type_Partysize_seat','GPS_V4_Scale','I_AUTHORITY',\n",
    "                #точно убираем - одно-два значения \n",
    "        'lifeexpectHDI','homiciderate','Refugeesorigin','internetusers','mobphone','fhregion',\n",
    "        'polregfh','freestfh','prfhrat','prfhscore','clfhrat','clfhscore','democ',\n",
    "        'autoc','polity','durable','regtype','ruleoflaw','corrupttransp','electintegr',\n",
    "        'btiregion','btistatus','btidemstatus','btistate','btipolpart','btiruleoflaw','btistability',\n",
    "        'btiintegration','btimarket','btigovindex',\n",
    "        'btigoveperform','btiregime','regionWB','incomeWB','landWB','GDPpercap1','GDPpercap2',\n",
    "        'giniWB','incrichest10p','popWB1990','popWB2000','popWB2019','lifeexpect','popgrowth',\n",
    "        'urbanpop','laborforce','deathrate','unemployfem','unemploymale','unemploytotal','accessclfuel',\n",
    "        'accesselectr','renewelectr','co2emis','co2percap','easeofbusiness','militaryexp','Trade',\n",
    "        'healthexp','educationexp','medageun','meanschooling','educationHDI','compulseduc','GII',\n",
    "        'DGI','womenparl','hdi','incomeindexHDI','humanineqiality','migrationrate','schoolgpi',\n",
    "        'femchoutsch','choutsch','v2x_polyarchy','v2x_libdem','v2x_partipdem','v2x_delibdem',\n",
    "        'v2x_egaldem','v2x_freexp_altinf','v2x_frassoc_thick','v2xel_frefair','v2xcl_rol',\n",
    "        'v2x_cspart','v2xeg_eqdr','v2excrptps','v2exthftps','v2juaccnt','v2cltrnslw','v2clacjust',\n",
    "        'v2clsocgrp','v2clacfree','v2clrelig','v2csrlgrep','v2mecenefm','v2mecenefi','v2mebias',\n",
    "        'v2pepwrses','v2pepwrgen','v2peedueq','v2pehealth','v2peapsecon','v2peasjsoecon',\n",
    "        'v2clgencl','v2peasjgen','v2peasbgen','v2cafres','v2cafexch','v2x_corr','v2x_gender',\n",
    "        'v2x_gencl','v2x_genpp','v2x_rule','v2xcl_acjst','PWGHT','E1_LITERACY','S025',\n",
    "        'I_NATIONALISM','I_DEVOUT','I_TRUSTARMY','I_TRUSTPOLICE','I_TRUSTCOURTS',\n",
    "        'I_RELIGIMP','I_RELIGBEL','I_RELIGPRAC','I_NORM1','I_NORM2','I_NORM3','RELATIVISM',\n",
    "        'SACSECVAL','RESEMAVAL','DEFIANCE','DISBELIEF','SCEPTICISM',\n",
    "        'I_INDEP','I_IMAGIN','I_NONOBED','AUTONOMY','I_WOMJOB','I_WOMPOL','I_WOMEDU','EQUALITY','I_HOMOLIB','I_ABORTLIB','Y001','Y002','Y003',\n",
    "        'I_DIVORLIB','CHOICE','I_VOICE1','I_VOICE2','I_VOI2_00','VOICE','SECVALWGT','RESEMAVALWGT',\n",
    "        'Q68', #профсоюз labour union\n",
    "        'Q275R','Q275A',  #highest educ other scales  [possible to leave R]\n",
    "        'Q276R','Q276A',  #highest educ other scales for spouze\n",
    "        'Q277R','Q277A',  #highest educ other scales for mother\n",
    "        'Q278R','Q278A',  #highest educ other scales for father\n",
    "        'Q288R', #scale of incomes\n",
    "        'Q73', #доверие парламенту\n",
    "        'Q76','Q77',\n",
    "#         'Q167', #believe in hell\n",
    "               \n",
    "        'Q79','Q80','Q81','Q83','Q84','Q85','Q86','Q87','Q88','Q89','Q90','Q289CS9',\n",
    "        'Q112','Q113','Q114','Q115','Q116', #взятки\n",
    "        'Q117', #журналисты взятки\n",
    "        'Q118', #дают взятки\n",
    "#         'Q136', #drugs in neighb\n",
    "        'Q209', #petition\n",
    "        'Q221','Q222','Q224','Q226','Q228','Q232','Q233','Q234','Q235',\n",
    "        'Q225', #opposition is prevented from running\n",
    "        'Q227', #voters are brided\n",
    "        'Q229','Q230','Q231','Q234A','Q236',\n",
    "        'Q237','Q238','Q239','Q240', #political\n",
    "        'X003R2','x003r',\n",
    "        'Q261', #год рождения\n",
    "#         'Q284', #Sector of employment - no tendency\n",
    "#         'Q285', #possibly NOT reliable - Are you the chief wage earner in your house\n",
    "#         'Q289', #orthodox(~490), muslim,,,\n",
    "#         'Q290' #Челябинск, краснодарская, дагест...\n",
    "              ],axis=1)\n",
    "\n",
    "df2 = df1[(df1['Q260'] == 2) & (df1['Q262'] > 39)].drop(['Q260','Q262'],axis=1)\n",
    "df2.reset_index(inplace=True, drop=True)\n",
    "\n",
    "#Transform kids number\n",
    "df2['Q274ed'] = np.where(df2['Q274']>4, 4, df2['Q274'])\n",
    "df2['Q274ed_cl'] = np.where(df2['Q274']>0, 1, 0)\n",
    "df2.drop(['Q274'],axis=1, inplace = True)\n",
    "\n",
    "#all negatives are nans\n",
    "df2[df2<0] = np.nan\n",
    "\n",
    "#fill in nans\n",
    "imputer = SimpleImputer(missing_values=np.nan, strategy='median')\n",
    "imputer = imputer.fit(df2)\n",
    "df3 = imputer.transform(df2)\n",
    "df3 = pd.DataFrame(data = df3, columns= df2.columns.values)"
   ]
  },
  {
   "cell_type": "code",
   "execution_count": 4,
   "id": "c38de90e",
   "metadata": {},
   "outputs": [],
   "source": [
    "# df2['Q274'].isna().sum()"
   ]
  },
  {
   "cell_type": "markdown",
   "id": "f2d91d86",
   "metadata": {},
   "source": [
    "## Transform columns that have only two responses"
   ]
  },
  {
   "cell_type": "code",
   "execution_count": 5,
   "id": "d60e6381",
   "metadata": {},
   "outputs": [
    {
     "name": "stdout",
     "output_type": "stream",
     "text": [
      "['H_URBRURAL', 'Q7', 'Q8', 'Q9', 'Q10', 'Q11', 'Q12', 'Q13', 'Q14', 'Q15', 'Q16', 'Q17', 'Q18', 'Q19', 'Q20', 'Q21', 'Q22', 'Q23', 'Q24', 'Q25', 'Q26', 'Q57', 'Q139', 'Q140', 'Q141', 'Q144', 'Q145', 'Q149', 'Q150', 'Q151', 'Q165', 'Q166', 'Q167', 'Q168', 'Q174', 'Q175', 'Q263', 'Q264', 'Q265', 'Q269', 'Q285']\n"
     ]
    }
   ],
   "source": [
    "col_two_responses = []\n",
    "for col in df3.columns:\n",
    "    if len(df3[col].value_counts()) == 2:\n",
    "        col_two_responses.append(col)\n",
    "#         print(col)\n",
    "#         df3[col] = np.where(df3[col] == 2, 0, df3[col])\n",
    "col_two_responses.pop()\n",
    "print(col_two_responses)\n",
    "df3_one_hot = pd.get_dummies(df3, prefix=col_two_responses, columns=col_two_responses)\n"
   ]
  },
  {
   "cell_type": "markdown",
   "id": "c75d1bcd",
   "metadata": {},
   "source": [
    "## Value counts and crosstab"
   ]
  },
  {
   "cell_type": "code",
   "execution_count": 6,
   "id": "8bbb00b7",
   "metadata": {},
   "outputs": [],
   "source": [
    "# df3['Q289'].value_counts()"
   ]
  },
  {
   "cell_type": "code",
   "execution_count": 7,
   "id": "fa048286",
   "metadata": {},
   "outputs": [
    {
     "data": {
      "text/html": [
       "<div>\n",
       "<style scoped>\n",
       "    .dataframe tbody tr th:only-of-type {\n",
       "        vertical-align: middle;\n",
       "    }\n",
       "\n",
       "    .dataframe tbody tr th {\n",
       "        vertical-align: top;\n",
       "    }\n",
       "\n",
       "    .dataframe thead th {\n",
       "        text-align: right;\n",
       "    }\n",
       "</style>\n",
       "<table border=\"1\" class=\"dataframe\">\n",
       "  <thead>\n",
       "    <tr style=\"text-align: right;\">\n",
       "      <th>Q283</th>\n",
       "      <th>0.0</th>\n",
       "      <th>1.0</th>\n",
       "      <th>2.0</th>\n",
       "      <th>3.0</th>\n",
       "      <th>4.0</th>\n",
       "      <th>5.0</th>\n",
       "      <th>6.0</th>\n",
       "      <th>7.0</th>\n",
       "      <th>8.0</th>\n",
       "      <th>9.0</th>\n",
       "      <th>10.0</th>\n",
       "    </tr>\n",
       "    <tr>\n",
       "      <th>Q274ed</th>\n",
       "      <th></th>\n",
       "      <th></th>\n",
       "      <th></th>\n",
       "      <th></th>\n",
       "      <th></th>\n",
       "      <th></th>\n",
       "      <th></th>\n",
       "      <th></th>\n",
       "      <th></th>\n",
       "      <th></th>\n",
       "      <th></th>\n",
       "    </tr>\n",
       "  </thead>\n",
       "  <tbody>\n",
       "    <tr>\n",
       "      <th>0.0</th>\n",
       "      <td>0.149701</td>\n",
       "      <td>1.347305</td>\n",
       "      <td>0.149701</td>\n",
       "      <td>0.000000</td>\n",
       "      <td>0.299401</td>\n",
       "      <td>0.748503</td>\n",
       "      <td>1.796407</td>\n",
       "      <td>3.742515</td>\n",
       "      <td>0.149701</td>\n",
       "      <td>0.299401</td>\n",
       "      <td>0.000000</td>\n",
       "    </tr>\n",
       "    <tr>\n",
       "      <th>1.0</th>\n",
       "      <td>0.299401</td>\n",
       "      <td>3.742515</td>\n",
       "      <td>1.347305</td>\n",
       "      <td>0.748503</td>\n",
       "      <td>0.449102</td>\n",
       "      <td>1.497006</td>\n",
       "      <td>5.538922</td>\n",
       "      <td>17.365269</td>\n",
       "      <td>2.694611</td>\n",
       "      <td>5.538922</td>\n",
       "      <td>0.449102</td>\n",
       "    </tr>\n",
       "    <tr>\n",
       "      <th>2.0</th>\n",
       "      <td>0.149701</td>\n",
       "      <td>2.245509</td>\n",
       "      <td>1.347305</td>\n",
       "      <td>0.449102</td>\n",
       "      <td>0.299401</td>\n",
       "      <td>1.646707</td>\n",
       "      <td>4.341317</td>\n",
       "      <td>16.916168</td>\n",
       "      <td>2.844311</td>\n",
       "      <td>7.035928</td>\n",
       "      <td>0.299401</td>\n",
       "    </tr>\n",
       "    <tr>\n",
       "      <th>3.0</th>\n",
       "      <td>0.449102</td>\n",
       "      <td>0.000000</td>\n",
       "      <td>0.449102</td>\n",
       "      <td>0.149701</td>\n",
       "      <td>0.299401</td>\n",
       "      <td>0.449102</td>\n",
       "      <td>1.347305</td>\n",
       "      <td>3.443114</td>\n",
       "      <td>1.197605</td>\n",
       "      <td>2.395210</td>\n",
       "      <td>0.000000</td>\n",
       "    </tr>\n",
       "    <tr>\n",
       "      <th>4.0</th>\n",
       "      <td>0.000000</td>\n",
       "      <td>0.149701</td>\n",
       "      <td>0.000000</td>\n",
       "      <td>0.000000</td>\n",
       "      <td>0.149701</td>\n",
       "      <td>0.000000</td>\n",
       "      <td>0.299401</td>\n",
       "      <td>1.646707</td>\n",
       "      <td>0.598802</td>\n",
       "      <td>0.898204</td>\n",
       "      <td>0.149701</td>\n",
       "    </tr>\n",
       "  </tbody>\n",
       "</table>\n",
       "</div>"
      ],
      "text/plain": [
       "Q283        0.0       1.0       2.0       3.0       4.0       5.0       6.0   \\\n",
       "Q274ed                                                                         \n",
       "0.0     0.149701  1.347305  0.149701  0.000000  0.299401  0.748503  1.796407   \n",
       "1.0     0.299401  3.742515  1.347305  0.748503  0.449102  1.497006  5.538922   \n",
       "2.0     0.149701  2.245509  1.347305  0.449102  0.299401  1.646707  4.341317   \n",
       "3.0     0.449102  0.000000  0.449102  0.149701  0.299401  0.449102  1.347305   \n",
       "4.0     0.000000  0.149701  0.000000  0.000000  0.149701  0.000000  0.299401   \n",
       "\n",
       "Q283         7.0       8.0       9.0       10.0  \n",
       "Q274ed                                           \n",
       "0.0      3.742515  0.149701  0.299401  0.000000  \n",
       "1.0     17.365269  2.694611  5.538922  0.449102  \n",
       "2.0     16.916168  2.844311  7.035928  0.299401  \n",
       "3.0      3.443114  1.197605  2.395210  0.000000  \n",
       "4.0      1.646707  0.598802  0.898204  0.149701  "
      ]
     },
     "execution_count": 7,
     "metadata": {},
     "output_type": "execute_result"
    }
   ],
   "source": [
    "tmp1 = pd.crosstab(df3['Q274ed'], df3['Q283'], normalize=True) * 100\n",
    "tmp1"
   ]
  },
  {
   "cell_type": "code",
   "execution_count": null,
   "id": "2435bdf3",
   "metadata": {},
   "outputs": [],
   "source": [
    "tmp2 = pd.DataFrame(tmp1.values, columns = ['0', '1'])"
   ]
  },
  {
   "cell_type": "code",
   "execution_count": null,
   "id": "339009e2",
   "metadata": {},
   "outputs": [],
   "source": [
    "tmp2['%'] = tmp2['1']/tmp2['0']"
   ]
  },
  {
   "cell_type": "code",
   "execution_count": null,
   "id": "aafaa07b",
   "metadata": {},
   "outputs": [],
   "source": [
    "tmp2"
   ]
  },
  {
   "cell_type": "code",
   "execution_count": null,
   "id": "e1c37636",
   "metadata": {},
   "outputs": [],
   "source": [
    "# df3=df3[['Q210','Q279','Q273','Q113','Q89','Q270','Q94','Q248','Q278','Q172','Q261','Q183','Q56','Q274']]"
   ]
  },
  {
   "cell_type": "markdown",
   "id": "00b78239",
   "metadata": {},
   "source": [
    "## What are columns X003R2 x003r  ???"
   ]
  },
  {
   "cell_type": "code",
   "execution_count": null,
   "id": "8380fdc3",
   "metadata": {},
   "outputs": [],
   "source": [
    "# plt.hist(df2[df2['Q260']==2]['Q262'],bins=100);"
   ]
  },
  {
   "cell_type": "code",
   "execution_count": null,
   "id": "53f41ba7",
   "metadata": {},
   "outputs": [],
   "source": [
    "# for i,el in enumerate(df3.dtypes.values):\n",
    "#     if not(el == 'int64' or el == 'float64'):\n",
    "#         print(i, el)\n",
    "# for col in df3.columns.values:\n",
    "#     if df3[col].dtype not in ['int64','float64']: \n",
    "#         print(col, df3[col].dtype)"
   ]
  },
  {
   "cell_type": "code",
   "execution_count": null,
   "id": "f83725e4",
   "metadata": {},
   "outputs": [],
   "source": [
    "# len(df3[~df3.isin([np.inf, -np.inf, -4]).any(1)])\n",
    "# df_total = df_total.reset_index(drop=True)\n"
   ]
  },
  {
   "cell_type": "markdown",
   "id": "ff9741b2",
   "metadata": {},
   "source": [
    "**correlation matrix**\n"
   ]
  },
  {
   "cell_type": "code",
   "execution_count": null,
   "id": "17b7c811",
   "metadata": {},
   "outputs": [],
   "source": [
    "corr_m = df3.corr()"
   ]
  },
  {
   "cell_type": "code",
   "execution_count": null,
   "id": "dadb2214",
   "metadata": {},
   "outputs": [],
   "source": [
    "corr_m"
   ]
  },
  {
   "cell_type": "code",
   "execution_count": null,
   "id": "c3181d5d",
   "metadata": {},
   "outputs": [],
   "source": [
    "corr_m[(corr_m > -0.3) & (corr_m < 0.3)]"
   ]
  },
  {
   "cell_type": "code",
   "execution_count": null,
   "id": "3f39927d",
   "metadata": {},
   "outputs": [],
   "source": [
    "plt.figure(figsize=(16, 16))\n",
    "sns.heatmap(corr_m, \n",
    "        xticklabels=corr_m.columns,\n",
    "        yticklabels=corr_m.columns,cmap=\"Greens\");"
   ]
  },
  {
   "cell_type": "code",
   "execution_count": null,
   "id": "aa2d07db",
   "metadata": {},
   "outputs": [],
   "source": [
    "# col='PWGHT'\n",
    "plt.hist(df3[col], bins=100);"
   ]
  },
  {
   "cell_type": "code",
   "execution_count": null,
   "id": "8f6c0157",
   "metadata": {},
   "outputs": [],
   "source": [
    "print(df3[col].min())\n",
    "print(df3[col].max())\n",
    "print(np.round(df3[col],1).value_counts)"
   ]
  },
  {
   "cell_type": "code",
   "execution_count": null,
   "id": "b1b0c204",
   "metadata": {},
   "outputs": [],
   "source": [
    "# for col in df3.columns:\n",
    "#     print(col, df3[col].isna().sum())"
   ]
  },
  {
   "cell_type": "code",
   "execution_count": null,
   "id": "92c56beb",
   "metadata": {},
   "outputs": [],
   "source": [
    "X.isna().sum().sum()"
   ]
  },
  {
   "cell_type": "code",
   "execution_count": null,
   "id": "d8b08312",
   "metadata": {},
   "outputs": [],
   "source": [
    "# !nvidia-smi"
   ]
  },
  {
   "cell_type": "code",
   "execution_count": null,
   "id": "ef6a352b",
   "metadata": {},
   "outputs": [],
   "source": [
    "from sklearn.preprocessing import StandardScaler\n",
    "from sklearn.decomposition import PCA"
   ]
  },
  {
   "cell_type": "code",
   "execution_count": null,
   "id": "f6d0d9bd",
   "metadata": {},
   "outputs": [],
   "source": []
  },
  {
   "cell_type": "code",
   "execution_count": null,
   "id": "acbd5916",
   "metadata": {},
   "outputs": [],
   "source": [
    "# X_pca = pca.transform(X)"
   ]
  },
  {
   "cell_type": "code",
   "execution_count": null,
   "id": "a74453cb",
   "metadata": {},
   "outputs": [],
   "source": [
    "expl_var = pca.explained_variance_ratio_\n",
    "print(expl_var[:250].sum())"
   ]
  },
  {
   "cell_type": "code",
   "execution_count": null,
   "id": "9dd7c653",
   "metadata": {},
   "outputs": [],
   "source": [
    "plt.figure(figsize=(16,6))\n",
    "plt.bar(range(70), pca.explained_variance_ratio_[:70], label=\"df\")\n",
    "plt.title(\"Explained variance ratio for original df\")\n",
    "# plt.bar(range(50), expl_var[:50], label=\"df\")\n",
    "# plt.ylim([0,0.1])\n",
    "plt.legend()\n",
    "plt.show()"
   ]
  },
  {
   "cell_type": "markdown",
   "id": "9d724142",
   "metadata": {},
   "source": [
    "## Classifier"
   ]
  },
  {
   "cell_type": "code",
   "execution_count": 8,
   "id": "7161c2de",
   "metadata": {},
   "outputs": [
    {
     "data": {
      "text/plain": [
       "array(['G_TOWNSIZE2', 'H_URBRURAL', 'Q1', 'Q2', 'Q3', 'Q4', 'Q5', 'Q6',\n",
       "       'Q7', 'Q8', 'Q9', 'Q10', 'Q11', 'Q12', 'Q13', 'Q14', 'Q15', 'Q16',\n",
       "       'Q17', 'Q18', 'Q19', 'Q20', 'Q21', 'Q22', 'Q23', 'Q24', 'Q25',\n",
       "       'Q26', 'Q27', 'Q28', 'Q29', 'Q30', 'Q31', 'Q32', 'Q33', 'Q34',\n",
       "       'Q35', 'Q36', 'Q37', 'Q38', 'Q39', 'Q40', 'Q41', 'Q42', 'Q43',\n",
       "       'Q44', 'Q45', 'Q46', 'Q47', 'Q48', 'Q49', 'Q50', 'Q51', 'Q52',\n",
       "       'Q53', 'Q54', 'Q55', 'Q56', 'Q57', 'Q58', 'Q59', 'Q60', 'Q61',\n",
       "       'Q62', 'Q63', 'Q64', 'Q65', 'Q66', 'Q67', 'Q69', 'Q70', 'Q71',\n",
       "       'Q72', 'Q74', 'Q75', 'Q78', 'Q94', 'Q95', 'Q96', 'Q97', 'Q98',\n",
       "       'Q99', 'Q100', 'Q101', 'Q102', 'Q103', 'Q104', 'Q105', 'Q106',\n",
       "       'Q107', 'Q108', 'Q109', 'Q110', 'Q111', 'Q119', 'Q120', 'Q121',\n",
       "       'Q122', 'Q123', 'Q124', 'Q125', 'Q126', 'Q127', 'Q128', 'Q129',\n",
       "       'Q130', 'Q131', 'Q132', 'Q133', 'Q134', 'Q135', 'Q136', 'Q137',\n",
       "       'Q138', 'Q139', 'Q140', 'Q141', 'Q142', 'Q143', 'Q144', 'Q145',\n",
       "       'Q146', 'Q147', 'Q148', 'Q149', 'Q150', 'Q151', 'Q152', 'Q153',\n",
       "       'Q154', 'Q155', 'Q156', 'Q157', 'Q158', 'Q159', 'Q160', 'Q161',\n",
       "       'Q162', 'Q163', 'Q164', 'Q165', 'Q166', 'Q167', 'Q168', 'Q169',\n",
       "       'Q170', 'Q171', 'Q172', 'Q173', 'Q174', 'Q175', 'Q176', 'Q177',\n",
       "       'Q178', 'Q179', 'Q180', 'Q181', 'Q182', 'Q183', 'Q184', 'Q185',\n",
       "       'Q186', 'Q187', 'Q188', 'Q189', 'Q190', 'Q191', 'Q192', 'Q193',\n",
       "       'Q194', 'Q195', 'Q196', 'Q197', 'Q198', 'Q199', 'Q200', 'Q201',\n",
       "       'Q202', 'Q203', 'Q204', 'Q205', 'Q206', 'Q207', 'Q208', 'Q210',\n",
       "       'Q211', 'Q212', 'Q213', 'Q214', 'Q215', 'Q216', 'Q217', 'Q218',\n",
       "       'Q219', 'Q220', 'Q241', 'Q242', 'Q243', 'Q244', 'Q245', 'Q246',\n",
       "       'Q247', 'Q248', 'Q249', 'Q250', 'Q251', 'Q252', 'Q253', 'Q254',\n",
       "       'Q255', 'Q256', 'Q257', 'Q258', 'Q259', 'Q263', 'Q264', 'Q265',\n",
       "       'Q266', 'Q267', 'Q268', 'Q269', 'Q270', 'Q271', 'Q272', 'Q273',\n",
       "       'Q275', 'Q276', 'Q277', 'Q278', 'Q279', 'Q280', 'Q281', 'Q282',\n",
       "       'Q283', 'Q286', 'Q287', 'Q288', 'Q274ed', 'Q274ed_cl'],\n",
       "      dtype=object)"
      ]
     },
     "execution_count": 8,
     "metadata": {},
     "output_type": "execute_result"
    }
   ],
   "source": [
    "df3.columns.values"
   ]
  },
  {
   "cell_type": "code",
   "execution_count": 9,
   "id": "44e6aada",
   "metadata": {},
   "outputs": [
    {
     "name": "stdout",
     "output_type": "stream",
     "text": [
      "0 0.8880597014925373 0.9402390438247011\n",
      "30 Q50 0.021812823\n",
      "109 Q164 0.02042409\n",
      "96 Q148 0.019852664\n",
      "143 Q204 0.01752202\n",
      "256 Q151_2.0 0.017431008\n",
      "16 Q36 0.017347518\n",
      "79 Q126 0.017105583\n",
      "~~~~~~~~~~~~~~~~~\n",
      "1 0.8805970149253731 0.9365079365079365\n",
      "139 Q200 0.027567582\n",
      "72 Q119 0.022148525\n",
      "257 Q165_1.0 0.020369332\n",
      "49 Q71 0.01742167\n",
      "130 Q191 0.016471894\n",
      "94 Q146 0.016207289\n",
      "184 Q273 0.015958726\n",
      "~~~~~~~~~~~~~~~~~\n",
      "2 0.8955223880597015 0.944\n",
      "96 Q148 0.04172879\n",
      "141 Q202 0.02420201\n",
      "72 Q119 0.023247976\n",
      "139 Q200 0.020752555\n",
      "26 Q46 0.019739931\n",
      "16 Q36 0.017176857\n",
      "43 Q64 0.017154602\n",
      "~~~~~~~~~~~~~~~~~\n",
      "3 0.9029850746268657 0.9486166007905139\n",
      "126 Q187 0.027694402\n",
      "96 Q148 0.023194384\n",
      "26 Q46 0.022391684\n",
      "36 Q56 0.022049157\n",
      "43 Q64 0.017910102\n",
      "128 Q189 0.017239379\n",
      "0 G_TOWNSIZE2 0.016326644\n",
      "~~~~~~~~~~~~~~~~~\n",
      "4 0.8955223880597015 0.9448818897637796\n",
      "139 Q200 0.02571239\n",
      "21 Q41 0.024122106\n",
      "72 Q119 0.02372087\n",
      "143 Q204 0.023030855\n",
      "207 Q11_1.0 0.02247535\n",
      "44 Q65 0.01943607\n",
      "184 Q273 0.018028783\n",
      "~~~~~~~~~~~~~~~~~\n",
      "5 0.9029850746268657 0.9490196078431373\n",
      "196 Q288 0.020395985\n",
      "193 Q283 0.019557603\n",
      "21 Q41 0.017570678\n",
      "72 Q119 0.017139886\n",
      "139 Q200 0.015789896\n",
      "184 Q273 0.015706277\n",
      "108 Q163 0.014713025\n",
      "~~~~~~~~~~~~~~~~~\n",
      "6 0.8955223880597015 0.944\n",
      "141 Q202 0.019663995\n",
      "197 H_URBRURAL_1.0 0.019284561\n",
      "184 Q273 0.018619204\n",
      "16 Q36 0.017639594\n",
      "11 Q31 0.017267302\n",
      "82 Q129 0.01714219\n",
      "177 Q259 0.01667615\n",
      "~~~~~~~~~~~~~~~~~\n"
     ]
    }
   ],
   "source": [
    "GPUn=3\n",
    "for _ in range(7):\n",
    "    df4 = df3_one_hot.sample(frac = 1)\n",
    "    # df4.columns.values\n",
    "    X = df4.drop(columns=['Q274ed','Q274ed_cl'])\n",
    "    y = df4['Q274ed_cl']\n",
    "    y = y.astype(int)\n",
    "\n",
    "    X_train, X_test, y_train, y_test = model_selection.train_test_split(X, y, \n",
    "                    test_size = 0.20, shuffle=False)\n",
    "    eval_set = [(X_train, y_train), (X_test, y_test)] #errors log container\n",
    "    bst = xgb.XGBClassifier(objective ='binary:logistic', \n",
    "                       max_depth=5, \n",
    "                       n_estimators=1000, #1000 \n",
    "                       eta = 0.05,\n",
    "                       random_state = 40,\n",
    "                       tree_method='gpu_hist', \n",
    "                        use_label_encoder=False,\n",
    "                       gpu_id=GPUn)\n",
    "    bst.fit(X_train, y_train, eval_set=eval_set, eval_metric= \"rmse\", verbose=False)\n",
    "    y_pred = bst.predict(X_test)\n",
    "    accuracy = accuracy_score(y_test, y_pred)\n",
    "    f1 = f1_score(y_test, y_pred, pos_label=1, average='binary')\n",
    "    print(_, accuracy, f1)\n",
    "    mdi = bst.feature_importances_\n",
    "    mdi_idx=np.argsort(mdi)[::-1]\n",
    "    for i in mdi_idx[:7]:\n",
    "        print(i, X_train.columns.values[i], mdi[i])\n",
    "    print('~~~~~~~~~~~~~~~~~')"
   ]
  },
  {
   "cell_type": "markdown",
   "id": "d285034b",
   "metadata": {},
   "source": [
    "## Regression model"
   ]
  },
  {
   "cell_type": "code",
   "execution_count": 9,
   "id": "f6091381",
   "metadata": {},
   "outputs": [
    {
     "name": "stdout",
     "output_type": "stream",
     "text": [
      "0 0.07080600946488746\n",
      "1 0.05666642704501257\n",
      "2 0.01933084970801302\n",
      "3 0.0394626321536653\n",
      "4 -0.06436695246328861\n",
      "5 0.14858016850805733\n",
      "6 0.03114696713095444\n"
     ]
    }
   ],
   "source": [
    "GPUn=3\n",
    "for _ in range(7):\n",
    "    df4 = df3.sample(frac = 1)\n",
    "    X = df4.drop(columns=['Q274ed','Q274ed_cl'])\n",
    "    y = df4['Q274ed']\n",
    "    \n",
    "#     sc=StandardScaler()\n",
    "#     sc.fit(X)\n",
    "#     X_sc = sc.transform(X)\n",
    "#     pca = PCA(n_components=250)  #\n",
    "#     pca.fit(X_sc)\n",
    "#     X_sc_pca = pca.transform(X_sc)\n",
    "\n",
    "#     r_state = np.random.randint(200)\n",
    "    X_train, X_test, y_train, y_test = model_selection.train_test_split(X, y, \n",
    "                    test_size = 0.20,\n",
    "                    shuffle=False)\n",
    "    eval_set = [(X_train, y_train), (X_test, y_test)] #errors log container\n",
    "    bst = xgb.XGBRegressor(objective ='reg:squarederror', \n",
    "                       max_depth=5, \n",
    "                       n_estimators=1000, #1000 \n",
    "                       eta = 0.05,\n",
    "                       random_state = 40,\n",
    "                       tree_method='gpu_hist', \n",
    "                       gpu_id=GPUn)\n",
    "    bst.fit(X_train, y_train, eval_set=eval_set, eval_metric= \"rmse\", verbose=False)\n",
    "    y_pred = bst.predict(X_test)\n",
    "    r2_out = metrics.r2_score(y_test, y_pred)\n",
    "    print(_, r2_out)\n"
   ]
  },
  {
   "cell_type": "code",
   "execution_count": null,
   "id": "875b358e",
   "metadata": {},
   "outputs": [],
   "source": [
    "0 -0.006763643580687484\n",
    "1 0.14132652561194048\n",
    "2 -0.013385769902816147\n",
    "3 0.051214758273871674\n",
    "4 0.12107522389                                                                                                                                                                                                                                                                                                                                                                                                                                                                                                                                                                                                                                                                                                                                                                                                  b                                                           bh87h6t6ewb6cr5rccf                                                                                                                                                                                                                                                    790892\n",
    "5 0.08616023974553089\n",
    "6 0.041869748306545884"
   ]
  },
  {
   "cell_type": "code",
   "execution_count": null,
   "id": "ee466dcd",
   "metadata": {},
   "outputs": [],
   "source": [
    "r2_out"
   ]
  },
  {
   "cell_type": "code",
   "execution_count": null,
   "id": "c2e8583b",
   "metadata": {},
   "outputs": [],
   "source": []
  },
  {
   "cell_type": "code",
   "execution_count": null,
   "id": "416add2f",
   "metadata": {},
   "outputs": [],
   "source": [
    "# for col in X.columns.values:\n",
    "#     print(np.isfinite(X[col]).sum()-668)\n"
   ]
  },
  {
   "cell_type": "markdown",
   "id": "95c16b6b",
   "metadata": {},
   "source": [
    "### Dendrogramm"
   ]
  },
  {
   "cell_type": "code",
   "execution_count": null,
   "id": "966e5f61",
   "metadata": {},
   "outputs": [],
   "source": [
    "\n",
    "def dual_plot(x_train):\n",
    "    fig, (ax1, ax2) = plt.subplots(1, 2, figsize=(20,12))\n",
    "    corr = spearmanr(x_train).correlation\n",
    "    corr_linkage = hierarchy.ward(corr)\n",
    "\n",
    "    dendro = hierarchy.dendrogram(corr_linkage, labels=list(x_train.columns), ax=ax1, leaf_rotation=90)\n",
    "    dendro_idx = np.arange(0, len(dendro['ivl']))\n",
    "\n",
    "    ax2.imshow(corr[dendro['leaves'], :][:, dendro['leaves']])\n",
    "    ax2.set_xticks(dendro_idx)\n",
    "    ax2.set_yticks(dendro_idx)\n",
    "    ax2.set_xticklabels(dendro['ivl'], rotation='vertical')\n",
    "    ax2.set_yticklabels(dendro['ivl'])\n",
    "    fig.tight_layout()\n",
    "    plt.show()"
   ]
  },
  {
   "cell_type": "code",
   "execution_count": null,
   "id": "897143a4",
   "metadata": {},
   "outputs": [],
   "source": [
    "import matplotlib.pyplot as plt\n",
    "dual_plot(X)"
   ]
  },
  {
   "cell_type": "markdown",
   "id": "fe58a062",
   "metadata": {},
   "source": [
    "### MDA"
   ]
  },
  {
   "cell_type": "code",
   "execution_count": null,
   "id": "bfadf964",
   "metadata": {},
   "outputs": [],
   "source": [
    "from sklearn.inspection import permutation_importance \n",
    "from mlfinlab.clustering.feature_clusters import get_feature_clusters\n",
    "result = permutation_importance(bst, X_test, y_test, n_repeats=4, random_state=42, n_jobs=2) #важность скорингом"
   ]
  },
  {
   "cell_type": "code",
   "execution_count": null,
   "id": "efafcee8",
   "metadata": {},
   "outputs": [],
   "source": [
    "mda_perm_sorted_idx = result.importances_mean.argsort() #усреднение и сортировка"
   ]
  },
  {
   "cell_type": "code",
   "execution_count": null,
   "id": "53e387b3",
   "metadata": {},
   "outputs": [],
   "source": [
    "c = 0\n",
    "d = dict()\n",
    "for el, res in zip(X.columns.values, result.importances_mean):\n",
    "    print(c, el, res)\n",
    "    d[el] = res\n",
    "    c+=1"
   ]
  },
  {
   "cell_type": "code",
   "execution_count": null,
   "id": "74e128bf",
   "metadata": {},
   "outputs": [],
   "source": [
    "feature_clusters = get_feature_clusters(X, dependence_metric='linear', n_clusters=13, distance_metric='angular', linkage_method='ward')  #add one to n_clusters"
   ]
  },
  {
   "cell_type": "code",
   "execution_count": null,
   "id": "d264e6ac",
   "metadata": {},
   "outputs": [],
   "source": [
    "feature_clusters"
   ]
  },
  {
   "cell_type": "code",
   "execution_count": null,
   "id": "b4964f35",
   "metadata": {},
   "outputs": [],
   "source": [
    "for group in feature_clusters:\n",
    "    max_res = dict()\n",
    "    for el in group:\n",
    "        max_res[el] = d[el]\n",
    "    print(max_res)\n",
    "    print(max(max_res, key=max_res.get))\n",
    "    print('---------------')"
   ]
  },
  {
   "cell_type": "code",
   "execution_count": null,
   "id": "b2283f7a",
   "metadata": {},
   "outputs": [],
   "source": [
    "feature_clusters"
   ]
  },
  {
   "cell_type": "code",
   "execution_count": null,
   "id": "ec7b19d4",
   "metadata": {},
   "outputs": [],
   "source": [
    "mda_perm_sorted_idx"
   ]
  },
  {
   "cell_type": "code",
   "execution_count": null,
   "id": "7c4b3b67",
   "metadata": {},
   "outputs": [],
   "source": [
    "tree_indices = np.arange(0, N_feat ) + 0.5"
   ]
  },
  {
   "cell_type": "code",
   "execution_count": null,
   "id": "073b4cc7",
   "metadata": {},
   "outputs": [],
   "source": [
    "\n",
    "fig, (ax1, ax2) = plt.subplots(1, 2, figsize=(15, 15))\n",
    "\n",
    "ax1.barh(tree_indices, feature_scores_mdi[mdi_perm_sorted_idx[-N_feat:]], height=0.7)\n",
    "ax1.set_yticklabels(feature_names[mdi_perm_sorted_idx[-N_feat:]])\n",
    "ax1.set_yticks(tree_indices)\n",
    "ax1.set_ylim((0, N_feat))\n",
    "ax1.set_title('MDI')\n",
    "\n",
    "ax2.boxplot(result.importances[mda_perm_sorted_idx[-N_feat:]].T, vert=False,\n",
    "            labels=np.array(feature_names)[mda_perm_sorted_idx[-N_feat:]])\n",
    "ax2.set_title('MDA')\n",
    "fig.tight_layout()\n",
    "plt.show()"
   ]
  },
  {
   "cell_type": "code",
   "execution_count": null,
   "id": "d18289e3",
   "metadata": {},
   "outputs": [],
   "source": []
  },
  {
   "cell_type": "code",
   "execution_count": null,
   "id": "5acbcecd",
   "metadata": {},
   "outputs": [],
   "source": []
  },
  {
   "cell_type": "code",
   "execution_count": null,
   "id": "9e8cf3fd",
   "metadata": {},
   "outputs": [],
   "source": []
  },
  {
   "cell_type": "code",
   "execution_count": null,
   "id": "4ac8766d",
   "metadata": {},
   "outputs": [],
   "source": []
  },
  {
   "cell_type": "code",
   "execution_count": null,
   "id": "a5dd3711",
   "metadata": {},
   "outputs": [],
   "source": []
  },
  {
   "cell_type": "code",
   "execution_count": null,
   "id": "12ddb4f0",
   "metadata": {},
   "outputs": [],
   "source": []
  },
  {
   "cell_type": "code",
   "execution_count": null,
   "id": "8dc4e044",
   "metadata": {},
   "outputs": [],
   "source": []
  },
  {
   "cell_type": "code",
   "execution_count": null,
   "id": "83e5da6f",
   "metadata": {},
   "outputs": [],
   "source": []
  },
  {
   "cell_type": "code",
   "execution_count": null,
   "id": "e88b3e2e",
   "metadata": {
    "tags": []
   },
   "outputs": [],
   "source": []
  },
  {
   "cell_type": "code",
   "execution_count": null,
   "id": "9445f36f",
   "metadata": {},
   "outputs": [],
   "source": []
  },
  {
   "cell_type": "code",
   "execution_count": null,
   "id": "bea86eee",
   "metadata": {},
   "outputs": [],
   "source": []
  },
  {
   "cell_type": "code",
   "execution_count": null,
   "id": "cd7fc84a",
   "metadata": {},
   "outputs": [],
   "source": [
    "\n",
    "    \n",
    "print(\"Russia length: \",len(df_r))\n",
    "# take females and over 40 years\n",
    "df_nec = df_r[(df_r['Q260'] == 2) & (df_r['Q262'] > 39)].copy()\n",
    "print(\"Women over 40 years in Russia: \", len(df_nec))\n",
    "\n",
    "# \"H_URBRURAL\",\"Q1\", \"Q3\", \"Q5\",\"Q18\",\"Q19\",\"Q20\",\"Q21\",\"Q22\",\"Q23\",\"Q24\",\"Q33\",\"Q47\",\"Q58\",\"Q67\",\"Q69\",\n",
    "# \"Q108\",\"Q109\",\"Q138\",\"Q161\",\"Q172\",\"Q206\",\"Q213\",\"Q238\",\"Q252\",\"Q262\",\"Q263\",\"Q271\",\"Q273\",\"Q275R\",\n",
    "# \"Q279\",\"Q288\",\"Q274\"\n",
    "df_col = df_nec[[\"H_URBRURAL\",\"Q1\",\"Q3\",\"Q5\",\"Q18\",\"Q19\",\"Q20\",\"Q21\",\"Q22\",\"Q23\",\"Q24\",\"Q33\",\n",
    "                 \"Q47\",\"Q58\",\"Q67\",\"Q69\",\"Q108\",\"Q109\",\"Q138\",\"Q161\",\"Q172\",\"Q206\",\"Q213\",\n",
    "                 \"Q238\",\"Q252\",\"Q263\",\"Q271\",\"Q273\",\"Q275R\",\"Q279\",\"Q288\",\"Q274\",\n",
    "                 \"Q260\",\"Q262\"]].copy()\n",
    "# df_col.Q274.unique()\n",
    "df_col[df_col < 0] = np.nan\n",
    "df_col[\"Q274\"].replace({9: np.nan}, inplace=True)\n",
    "df_col.dropna(inplace=True)\n",
    "print(\"With dropped NaNs length is: \", len(df_col))\n",
    "# df_col.columns.values"
   ]
  },
  {
   "cell_type": "code",
   "execution_count": null,
   "id": "e12e40f9",
   "metadata": {},
   "outputs": [],
   "source": [
    "#drop sex and age columns\n",
    "df_col.drop([\"Q260\", \"Q262\"],axis=1, inplace=True)"
   ]
  },
  {
   "cell_type": "code",
   "execution_count": null,
   "id": "0d6f9ef1",
   "metadata": {},
   "outputs": [],
   "source": [
    "# df_nec.isna().sum()"
   ]
  },
  {
   "cell_type": "code",
   "execution_count": null,
   "id": "3dd53965",
   "metadata": {},
   "outputs": [],
   "source": [
    "df_col.loc[df_nec[\"H_URBRURAL\"] == 2, \"H_URBRURAL\"] = 0\n",
    "df_col.loc[df_nec[\"Q18\"] == 2, \"Q18\"] = 0\n",
    "df_col.loc[df_nec[\"Q19\"] == 2, \"Q19\"] = 0\n",
    "df_col.loc[df_nec[\"Q20\"] == 2, \"Q20\"] = 0\n",
    "df_col.loc[df_nec[\"Q21\"] == 2, \"Q21\"] = 0\n",
    "df_col.loc[df_nec[\"Q22\"] == 2, \"Q22\"] = 0\n",
    "df_col.loc[df_nec[\"Q23\"] == 2, \"Q23\"] = 0\n",
    "df_col.loc[df_nec[\"Q24\"] == 2, \"Q24\"] = 0\n",
    "df_col.loc[df_nec[\"Q263\"] == 2, \"Q263\"] = 0"
   ]
  },
  {
   "cell_type": "code",
   "execution_count": null,
   "id": "16843f18",
   "metadata": {},
   "outputs": [],
   "source": [
    "#ed = edited\n",
    "df_col[\"Q271ed\"] = np.where(df_col[\"Q271\"]<2,0,1)\n",
    "df_col[\"Q273ed\"] = np.where(df_col[\"Q273\"]<3,1,0)\n",
    "df_col[\"Q279ed\"] = np.where(df_col[\"Q279\"]<4,1,0)\n",
    "df_col.drop([\"Q271\",\"Q273\",\"Q279\"], axis=1, inplace=True)"
   ]
  },
  {
   "cell_type": "code",
   "execution_count": null,
   "id": "68fb08ec",
   "metadata": {},
   "outputs": [],
   "source": [
    "# plt.hist(df_col[\"Q33\"], bins=100);"
   ]
  },
  {
   "cell_type": "code",
   "execution_count": null,
   "id": "08c50f99",
   "metadata": {},
   "outputs": [],
   "source": [
    "# Number of features\n",
    "\n",
    "# a=[\"H_URBRURAL\",\"Q1\", \"Q3\", \"Q5\",\"Q18\",\"Q20\",\"Q21\",\"Q22\",\"Q23\",\"Q24\",\"Q33\",\"Q47\",\"Q58\",\"Q67\",\"Q69\",\n",
    "# \"Q108\",\"Q109\",\"Q138\",\"Q161\",\"Q172\",\"Q206\",\"Q213\",\"Q238\",\"Q252\",\"Q263\",\"Q271\",\"Q273\",\"Q275R\",\n",
    "# \"Q279\",\"Q288\",\"Q274\"]\n",
    "# len(a)"
   ]
  },
  {
   "cell_type": "markdown",
   "id": "b46f32f0",
   "metadata": {},
   "source": [
    "#### all necessary features\n",
    "\"H_URBRURAL\", 1.- Urban, 2.- Rural [2 -> 0]\n",
    "\"Q1\", 1.- Very important, 4.- Not at all important\n",
    "\"Q3\", 1.- Very important, 4.- Not at all important\n",
    "\"Q5\", 1.- Very important, 4.- Not at all important\n",
    "\"Q18\", 1.- Mentioned, 2.- Rural [2 -> 0]\n",
    "\"Q19\", 1.- Mentioned, 2.- Rural [2 -> 0]\n",
    "\"Q20\",1.- Mentioned, 2.- Rural [2 -> 0]\n",
    "\"Q21\", 1.- Mentioned, 2.- Rural [2 -> 0]\n",
    "\"Q22\",1.- Mentioned, 2.- Rural [2 -> 0]\n",
    "\"Q23\", 1.- Mentioned, 2.- Rural [2 -> 0]\n",
    "\"Q24\", 1.- Mentioned, 2.- Rural [2 -> 0]\n",
    "\"Q33\", 1.- Agree strongly 5.- Disagree strongly\n",
    "\"Q47\", 1.- Very good, 5.- Very poor\n",
    "\"Q58\", 1.- Trust completely 4.- Do not trust at all\n",
    "\"Q67\", 1.- A great deal 4.- None at all\n",
    "\"Q69\", 1.- A great deal 4.- None at all\n",
    "\"Q108\", 1.- governments responsibility, 10.- People responsibility \n",
    "\"Q109\", 1.- Competition is good, 10.- Competition is harmful \n",
    "\n",
    "\"Q138\", 1.- Very Frequently, 4.- Not at all frequently \n",
    "\n",
    "\"Q161\", 1.- Completely disagree, 10-comletely agree\n",
    "\"Q172\", 1-often, 8-never\n",
    "\"Q206\", 1.- Daily, 5.- Never\n",
    "\"Q213\", 1.- Have done 2.- Might do 3.- Would never do\n",
    "\"Q238\", 1.- Very good 2.- Fairly good 3.- Fairly bad 4.- Very bad\n",
    "\"Q252\", 1 means not satisfied at all and 10 means completely satisfied\n",
    "\"Q263\", 1.- I am born in this country, 2.-  [2 -> 0]\n",
    "\"Q271\", (1 - no, 2,3,4 - yes) one-hot [1 -> 0]\n",
    "\"Q273\",  Marital status (1,2 yes[1] ; 3,4,5,6 [0]) \n",
    "\"Q275R\", 1.- Primary 2.- Secondary 3.- Post-secondary\n",
    "\"Q279\", (1,2,3 yes [1] ; 4,5,6,7, 8 no [0])\n",
    "\"Q288\", 1 indicates the lowest income group and 10 the highest income group in your country\n",
    "\"Q274\" number of kids"
   ]
  },
  {
   "cell_type": "code",
   "execution_count": null,
   "id": "0cd34c41",
   "metadata": {},
   "outputs": [],
   "source": [
    "feature_names  = X.columns.values        #имена всех фич\n",
    "feature_scores_mdi = bst.feature_importances_  #важность фич\n",
    "\n",
    "N_feat = len(feature_scores_mdi)               #количество фич\n",
    "print(N_feat) "
   ]
  },
  {
   "cell_type": "code",
   "execution_count": null,
   "id": "607979b9",
   "metadata": {},
   "outputs": [],
   "source": [
    "feature_scores_mdi"
   ]
  },
  {
   "cell_type": "code",
   "execution_count": null,
   "id": "d7c79efc",
   "metadata": {},
   "outputs": [],
   "source": [
    "mdi_perm_sorted_idx = feature_scores_mdi.argsort() #индексы для сортировки\n",
    "mdi_perm_sorted_idx"
   ]
  },
  {
   "cell_type": "markdown",
   "id": "9c1b1516",
   "metadata": {},
   "source": [
    "### boost with \"Q24\",\"Q206\",\"Q21\",\"Q109\",\"Q67\",\"Q238\",\"Q288\",\"Q3\",\"Q33\""
   ]
  },
  {
   "cell_type": "code",
   "execution_count": null,
   "id": "8a871c32",
   "metadata": {},
   "outputs": [],
   "source": []
  },
  {
   "cell_type": "code",
   "execution_count": null,
   "id": "f7cda24e",
   "metadata": {},
   "outputs": [],
   "source": [
    "f = [\"Q24\",\"Q206\",\"Q21\",\"Q109\",\"Q67\",\"Q238\",\"Q288\",\"Q3\",\"Q33\"]"
   ]
  },
  {
   "cell_type": "code",
   "execution_count": null,
   "id": "abe9d6fe",
   "metadata": {},
   "outputs": [],
   "source": [
    "X = df_col[f]\n",
    "y = df_col['Q274']"
   ]
  },
  {
   "cell_type": "code",
   "execution_count": null,
   "id": "a36d5107",
   "metadata": {},
   "outputs": [],
   "source": [
    "X_train, X_test, y_train, y_test = model_selection.train_test_split(X, y, \n",
    "                test_size = 0.20, \n",
    "                random_state=17,\n",
    "                shuffle=False)"
   ]
  },
  {
   "cell_type": "code",
   "execution_count": null,
   "id": "0101d612",
   "metadata": {},
   "outputs": [],
   "source": [
    "# !nvidia-smi"
   ]
  },
  {
   "cell_type": "code",
   "execution_count": null,
   "id": "6a80db86",
   "metadata": {},
   "outputs": [],
   "source": []
  },
  {
   "cell_type": "code",
   "execution_count": null,
   "id": "54fcc17e",
   "metadata": {},
   "outputs": [],
   "source": []
  },
  {
   "cell_type": "markdown",
   "id": "316d0b27",
   "metadata": {},
   "source": [
    "#### boost with \"Q288,\",\"H_URBRURAL\",\"Q172\",\"Q252\",\"Q109\",\"Q21\",\"Q206\",\"Q161\",\"Q23\",\"Q5\",\"Q275R\",\"Q108\",\"Q3\",\"Q67\",\"Q263\"\n"
   ]
  },
  {
   "cell_type": "code",
   "execution_count": null,
   "id": "f3a1f241",
   "metadata": {},
   "outputs": [],
   "source": [
    "len(df_col)"
   ]
  },
  {
   "cell_type": "code",
   "execution_count": null,
   "id": "4ac30bcf",
   "metadata": {},
   "outputs": [],
   "source": [
    "# f = [\"Q288\",\"Q172\",\"Q252\",\"Q21\",\"Q206\",\"Q161\",\"Q23\",\"Q5\"]\n",
    "# f=['H_URBRURAL', 'Q1', 'Q3', 'Q5', 'Q18', 'Q19', 'Q21', 'Q22',\n",
    "#        'Q23', 'Q24', 'Q33', 'Q47', 'Q58', 'Q67',  'Q108', 'Q109',\n",
    "#        'Q161', 'Q206',  'Q263', 'Q275R', 'Q288',\n",
    "#     'Q271ed', 'Q273ed', 'Q279ed']\n",
    "f=[\"H_URBRURAL\",\"Q288\",\"Q161\",\"Q109\",\"Q206\",\"Q108\",\"Q21\",\"Q67\",\"Q33\",\"Q5\",\"Q47\",\"Q22\",\"Q24\",\"Q271ed\",\"Q1\",\"Q3\",\"Q19\"]\n",
    "\n",
    "# 'Q252','Q20','Q172','Q238', 'Q213', 'Q138','Q69',\n",
    "X = df_col[f]\n",
    "y = df_col['Q274']"
   ]
  },
  {
   "cell_type": "code",
   "execution_count": null,
   "id": "c7acf3c6",
   "metadata": {},
   "outputs": [],
   "source": [
    "X_train, X_test, y_train, y_test = model_selection.train_test_split(X, y, \n",
    "                test_size = 0.20, \n",
    "                random_state=26,\n",
    "                shuffle=False)"
   ]
  },
  {
   "cell_type": "code",
   "execution_count": null,
   "id": "0ff407b1",
   "metadata": {},
   "outputs": [],
   "source": [
    "GPUn=1\n",
    "\n",
    "eval_set = [(X_train, y_train), (X_test, y_test)] #errors log container\n",
    "# eval_set = [(X, y)] #errors log container\n",
    "bst = xgb.XGBRegressor(objective ='reg:squarederror', \n",
    "                   max_depth=5, \n",
    "                   n_estimators=1000, #1000 \n",
    "                   eta = 0.05,\n",
    "                   random_state = 21,\n",
    "                   tree_method='gpu_hist', \n",
    "                   gpu_id=GPUn)\n",
    "bst.fit(X_train, y_train, eval_set=eval_set, eval_metric= \"rmse\", verbose=False)\n",
    "# bst.fit(X, y, eval_set=eval_set, eval_metric= \"rmse\", verbose=False)\n",
    "y_pred = bst.predict(X_test)\n",
    "# y_pred = bst.predict(X)\n",
    "r2_out = metrics.r2_score(y_test, y_pred)\n",
    "# sp_out = pd.DataFrame({\"y_test\":y_test, \"y_pred\":y_pred}).corr(method=\"spearman\")[\"y_test\"][\"y_pred\"] #spearman\n"
   ]
  },
  {
   "cell_type": "code",
   "execution_count": null,
   "id": "a236e018",
   "metadata": {},
   "outputs": [],
   "source": [
    "r2_out"
   ]
  },
  {
   "cell_type": "code",
   "execution_count": null,
   "id": "23fd7c02",
   "metadata": {},
   "outputs": [],
   "source": [
    "r = permutation_importance(bst, X_test, y_test, n_repeats=4, n_jobs=10, random_state=42)\n",
    "mda_idx = r.importances_mean.argsort()"
   ]
  },
  {
   "cell_type": "code",
   "execution_count": null,
   "id": "4501e606",
   "metadata": {},
   "outputs": [],
   "source": [
    "N_feat=X.shape[1]\n",
    "feature_names=X.columns.values\n",
    "plt.figure(figsize=(14,18))\n",
    "plt.boxplot(r.importances[mda_idx[-N_feat:]].T, vert=False,\n",
    "            labels=np.array(feature_names)[mda_idx[-N_feat:]])\n",
    "plt.title('MDA: replace features with random values and see how r2 decreases')\n",
    "plt.show()"
   ]
  },
  {
   "cell_type": "code",
   "execution_count": null,
   "id": "de541b7e",
   "metadata": {},
   "outputs": [],
   "source": [
    "explainer = shap.TreeExplainer(bst)\n",
    "shap_values = explainer.shap_values(X_train)\n",
    "\n",
    "# summarize the effects of all the features\n",
    "shap.summary_plot(shap_values, X_train)"
   ]
  },
  {
   "cell_type": "code",
   "execution_count": null,
   "id": "6ebe2b19",
   "metadata": {},
   "outputs": [],
   "source": [
    "H_URBRURAL, Q288 Q161 Q206 Q109 Q108 Q47 Q21 Q67 Q33 Q22 Q5  Q271ed Q24\n",
    "    Q1 Q3  Q19\n",
    "\n",
    "\n",
    "Q279ed   Q58"
   ]
  },
  {
   "cell_type": "code",
   "execution_count": null,
   "id": "f07dc34e",
   "metadata": {},
   "outputs": [],
   "source": []
  },
  {
   "cell_type": "code",
   "execution_count": null,
   "id": "76b5c16a",
   "metadata": {},
   "outputs": [],
   "source": []
  },
  {
   "cell_type": "code",
   "execution_count": null,
   "id": "09d2040b",
   "metadata": {},
   "outputs": [],
   "source": []
  },
  {
   "cell_type": "code",
   "execution_count": null,
   "id": "410d9342",
   "metadata": {},
   "outputs": [],
   "source": []
  },
  {
   "cell_type": "code",
   "execution_count": null,
   "id": "cf57a7a0",
   "metadata": {},
   "outputs": [],
   "source": []
  },
  {
   "cell_type": "code",
   "execution_count": null,
   "id": "0f8bbf99",
   "metadata": {},
   "outputs": [],
   "source": []
  },
  {
   "cell_type": "code",
   "execution_count": null,
   "id": "05e82bf3",
   "metadata": {},
   "outputs": [],
   "source": []
  },
  {
   "cell_type": "code",
   "execution_count": null,
   "id": "3dce4e05",
   "metadata": {},
   "outputs": [],
   "source": []
  },
  {
   "cell_type": "code",
   "execution_count": null,
   "id": "a5de1275",
   "metadata": {},
   "outputs": [],
   "source": []
  },
  {
   "cell_type": "code",
   "execution_count": null,
   "id": "37d29b62",
   "metadata": {},
   "outputs": [],
   "source": []
  },
  {
   "cell_type": "code",
   "execution_count": null,
   "id": "921fc3d6",
   "metadata": {},
   "outputs": [],
   "source": [
    "feature_clusters"
   ]
  },
  {
   "cell_type": "code",
   "execution_count": null,
   "id": "42fbe2f3",
   "metadata": {},
   "outputs": [],
   "source": [
    "r = permutation_importance(bst, X, y, n_repeats=4, n_jobs=10, random_state=42)\n",
    "mda_idx = r.importances_mean.argsort()"
   ]
  },
  {
   "cell_type": "code",
   "execution_count": null,
   "id": "ae1f8ef0",
   "metadata": {},
   "outputs": [],
   "source": [
    "N_feat=X.shape[1]\n",
    "feature_names=X.columns.values\n",
    "plt.figure(figsize=(14,18))\n",
    "plt.boxplot(r.importances[mda_idx[-N_feat:]].T, vert=False,\n",
    "            labels=np.array(feature_names)[mda_idx[-N_feat:]])\n",
    "plt.title('MDA: replace features with random values and see how r2 decreases')\n",
    "plt.show()"
   ]
  },
  {
   "cell_type": "code",
   "execution_count": null,
   "id": "db511474",
   "metadata": {},
   "outputs": [],
   "source": []
  },
  {
   "cell_type": "code",
   "execution_count": null,
   "id": "5a6c1ef6",
   "metadata": {},
   "outputs": [],
   "source": [
    "import shap\n",
    "shap.initjs()"
   ]
  },
  {
   "cell_type": "code",
   "execution_count": null,
   "id": "5490f32d",
   "metadata": {},
   "outputs": [],
   "source": [
    "explainer = shap.TreeExplainer(bst)\n",
    "shap_values = explainer.shap_values(X)\n",
    "\n",
    "# summarize the effects of all the features\n",
    "shap.summary_plot(shap_values, X)"
   ]
  },
  {
   "cell_type": "code",
   "execution_count": null,
   "id": "bb4dc78a",
   "metadata": {},
   "outputs": [],
   "source": []
  },
  {
   "cell_type": "code",
   "execution_count": null,
   "id": "5f6c51d7",
   "metadata": {},
   "outputs": [],
   "source": []
  },
  {
   "cell_type": "code",
   "execution_count": null,
   "id": "1e89be01",
   "metadata": {},
   "outputs": [],
   "source": []
  },
  {
   "cell_type": "code",
   "execution_count": null,
   "id": "13c6cee2",
   "metadata": {},
   "outputs": [],
   "source": [
    "#Pearson\n",
    "np.corrcoef(y_test, y_pred)[0,1]"
   ]
  },
  {
   "cell_type": "markdown",
   "id": "7f0ac5f9",
   "metadata": {},
   "source": [
    "#### Dendrogramm"
   ]
  },
  {
   "cell_type": "code",
   "execution_count": null,
   "id": "abf4d201",
   "metadata": {},
   "outputs": [],
   "source": [
    "from scipy.stats import spearmanr\n",
    "from scipy.cluster import hierarchy\n",
    "def dual_plot(x):\n",
    "    fig, (ax1, ax2) = plt.subplots(1, 2, figsize=(20,12))\n",
    "    corr = spearmanr(x).correlation\n",
    "    corr_linkage = hierarchy.ward(corr)\n",
    "\n",
    "    dendro = hierarchy.dendrogram(corr_linkage, labels=list(x.columns), ax=ax1, leaf_rotation=90)\n",
    "    dendro_idx = np.arange(0, len(dendro['ivl']))\n",
    "\n",
    "    ax2.imshow(corr[dendro['leaves'], :][:, dendro['leaves']])\n",
    "    ax2.set_xticks(dendro_idx)\n",
    "    ax2.set_yticks(dendro_idx)\n",
    "    ax2.set_xticklabels(dendro['ivl'], rotation='vertical')\n",
    "    ax2.set_yticklabels(dendro['ivl'])\n",
    "    fig.tight_layout()\n",
    "    plt.show()"
   ]
  },
  {
   "cell_type": "code",
   "execution_count": null,
   "id": "79a8ad0f",
   "metadata": {},
   "outputs": [],
   "source": [
    "dual_plot(X)"
   ]
  },
  {
   "cell_type": "code",
   "execution_count": null,
   "id": "55d90ace",
   "metadata": {},
   "outputs": [],
   "source": []
  },
  {
   "cell_type": "markdown",
   "id": "fdaa4d50",
   "metadata": {},
   "source": [
    "## Corr matrix and heatmap"
   ]
  },
  {
   "cell_type": "code",
   "execution_count": null,
   "id": "a5caec02",
   "metadata": {},
   "outputs": [],
   "source": [
    "c = df_col_tmp[\"Q274\"].corr(method='pearson')"
   ]
  },
  {
   "cell_type": "code",
   "execution_count": null,
   "id": "4b542353",
   "metadata": {},
   "outputs": [],
   "source": [
    "plt.figure(figsize=(12, 12))\n",
    "sns.heatmap(c, \n",
    "        xticklabels=c.columns,\n",
    "        yticklabels=c.columns,cmap=\"Greens\");"
   ]
  },
  {
   "cell_type": "code",
   "execution_count": null,
   "id": "c67904a6",
   "metadata": {},
   "outputs": [],
   "source": [
    "idx = np.argsort(df_col_tmp.corr()['Q274'])\n",
    "df_col_tmp.corr()['Q274'][idx]"
   ]
  },
  {
   "cell_type": "code",
   "execution_count": null,
   "id": "381152ed",
   "metadata": {},
   "outputs": [],
   "source": [
    "# !nvidia-smi"
   ]
  },
  {
   "cell_type": "markdown",
   "id": "05865a0e",
   "metadata": {},
   "source": [
    "#### Lin regr with selected by Spearman corr with Q274 features"
   ]
  },
  {
   "cell_type": "code",
   "execution_count": null,
   "id": "bdccd6af",
   "metadata": {},
   "outputs": [],
   "source": [
    "Q279ed         -0.164232\n",
    "H_URBRURAL_1   -0.160339\n",
    "Q172           -0.142834\n",
    "Q275R_3.0      -0.138231\n",
    "Q288           -0.080889\n",
    "Q3              0.072417\n",
    "Q262sq          0.074490\n",
    "Q273ed          0.075786\n",
    "Q263_2          0.076532\n",
    "Q262ed          0.097694\n",
    "Q275R_1.0       0.121706\n",
    "H_URBRURAL_2\n"
   ]
  },
  {
   "cell_type": "code",
   "execution_count": null,
   "id": "1f5b382b",
   "metadata": {},
   "outputs": [],
   "source": []
  },
  {
   "cell_type": "code",
   "execution_count": null,
   "id": "df9fb07f",
   "metadata": {},
   "outputs": [],
   "source": []
  },
  {
   "cell_type": "code",
   "execution_count": null,
   "id": "b00e9352",
   "metadata": {},
   "outputs": [],
   "source": []
  },
  {
   "cell_type": "code",
   "execution_count": null,
   "id": "bbe5a1f2",
   "metadata": {},
   "outputs": [],
   "source": [
    "# f = [\"Q288\",\"Q172\",\"Q252\",\"Q21\",\"Q206\",\"Q161\",\"Q23\",\"Q5\",\"Q275R\",\"Q67\"]\n",
    "# X = df_col[f]\n",
    "# y = df_col['Q274']\n",
    "\n",
    "df_selected = df_col[[\"Q274\",\"Q172\",\"Q275R\",\"Q288\",\"Q3\",\"Q263\",\"H_URBRURAL\"]]\n",
    "X = df_selected.drop([\"Q274\"], axis=1)\n",
    "y = df_selected['Q274']\n"
   ]
  },
  {
   "cell_type": "code",
   "execution_count": null,
   "id": "ea77a8e2",
   "metadata": {},
   "outputs": [],
   "source": [
    "X_train,X_test,y_train,y_test=model_selection.train_test_split(X, y,\n",
    "        test_size = 0.30,\n",
    "        random_state=42,\n",
    "        shuffle=False)"
   ]
  },
  {
   "cell_type": "code",
   "execution_count": null,
   "id": "068de21e",
   "metadata": {},
   "outputs": [],
   "source": [
    "X2_train = sm.add_constant(X_train)\n",
    "X2_test = sm.add_constant(X_test)\n",
    "est = sm.OLS(y_train, X2_train)\n",
    "est2 = est.fit()\n",
    "print (\"In-Sample: %s\" % r2_score(y_train, est2.predict(X2_train)))\n",
    "print (\"Out-of-Sample: %s\" % r2_score(y_test, est2.predict(X2_test)))\n",
    "print(\"\\n\")\n",
    "print(est2.summary())\n",
    "   "
   ]
  },
  {
   "cell_type": "code",
   "execution_count": null,
   "id": "c7ab0e8e",
   "metadata": {},
   "outputs": [],
   "source": []
  },
  {
   "cell_type": "code",
   "execution_count": null,
   "id": "9f11394d",
   "metadata": {},
   "outputs": [],
   "source": []
  },
  {
   "cell_type": "code",
   "execution_count": null,
   "id": "8f2a5b79",
   "metadata": {},
   "outputs": [],
   "source": []
  },
  {
   "cell_type": "code",
   "execution_count": null,
   "id": "a841ba49",
   "metadata": {},
   "outputs": [],
   "source": [
    "cols = list()\n",
    "for i in range(177,196):\n",
    "    cols.append('Q'+str(i))"
   ]
  },
  {
   "cell_type": "code",
   "execution_count": null,
   "id": "b4b37a45",
   "metadata": {},
   "outputs": [],
   "source": [
    "df_col = df_r[cols]"
   ]
  },
  {
   "cell_type": "code",
   "execution_count": null,
   "id": "ca6f22d8",
   "metadata": {},
   "outputs": [],
   "source": [
    "df_col.head()"
   ]
  },
  {
   "cell_type": "code",
   "execution_count": null,
   "id": "fcda1069",
   "metadata": {},
   "outputs": [],
   "source": [
    "# with open(\"only_rus_q177_195.pck\", \"bw\") as f:\n",
    "#     pickle.dump(df_col, f)"
   ]
  },
  {
   "cell_type": "code",
   "execution_count": null,
   "id": "50059836",
   "metadata": {},
   "outputs": [],
   "source": [
    "# with open(\"only_rus_q177_195.pck\", \"br\") as f:\n",
    "#     df_col=pickle.load(f)\n"
   ]
  },
  {
   "cell_type": "code",
   "execution_count": null,
   "id": "7822c632",
   "metadata": {},
   "outputs": [],
   "source": [
    "len(df_col.Q179)"
   ]
  },
  {
   "cell_type": "code",
   "execution_count": null,
   "id": "bb988139",
   "metadata": {},
   "outputs": [],
   "source": [
    "df_col.Q179.value_counts()"
   ]
  },
  {
   "cell_type": "code",
   "execution_count": null,
   "id": "86411125",
   "metadata": {},
   "outputs": [],
   "source": [
    "df1 = pd.DataFrame()\n",
    "for col in df_col.columns:\n",
    "    df1[col] = df_col[col].replace(-1,np.nan)\n",
    "    df1[col] = df_col[col].replace(-2,np.nan)\n",
    "    df1[col] = df_col[col].replace(-4,np.nan)\n",
    "    df1[col] = df_col[col].replace(-5,np.nan)"
   ]
  },
  {
   "cell_type": "code",
   "execution_count": null,
   "id": "9696324b",
   "metadata": {},
   "outputs": [],
   "source": [
    "df1.isna().sum()"
   ]
  },
  {
   "cell_type": "code",
   "execution_count": null,
   "id": "78b4fceb",
   "metadata": {},
   "outputs": [],
   "source": [
    "df1.dropna(axis=1, inplace=True)"
   ]
  },
  {
   "cell_type": "code",
   "execution_count": null,
   "id": "98a12c9b",
   "metadata": {},
   "outputs": [],
   "source": [
    "len(df1)"
   ]
  },
  {
   "cell_type": "code",
   "execution_count": null,
   "id": "70f71c3d",
   "metadata": {},
   "outputs": [],
   "source": [
    "df1 = df1/10"
   ]
  },
  {
   "cell_type": "code",
   "execution_count": null,
   "id": "8425f9b6",
   "metadata": {},
   "outputs": [],
   "source": [
    "df1."
   ]
  },
  {
   "cell_type": "code",
   "execution_count": null,
   "id": "be6a3ffa",
   "metadata": {},
   "outputs": [],
   "source": [
    "from seaborn import distplot, pairplot"
   ]
  },
  {
   "cell_type": "code",
   "execution_count": null,
   "id": "09d54996",
   "metadata": {},
   "outputs": [],
   "source": [
    "pairplot(df1)"
   ]
  },
  {
   "cell_type": "markdown",
   "id": "35a16c3f",
   "metadata": {},
   "source": [
    "## Corr matrix and heatmap"
   ]
  },
  {
   "cell_type": "code",
   "execution_count": null,
   "id": "b7f84fa3",
   "metadata": {},
   "outputs": [],
   "source": [
    "c = df1.corr(method='pearson')"
   ]
  },
  {
   "cell_type": "code",
   "execution_count": null,
   "id": "8368bc24",
   "metadata": {},
   "outputs": [],
   "source": [
    "plt.figure(figsize=(8, 8))\n",
    "sns.heatmap(c, \n",
    "        xticklabels=c.columns,\n",
    "        yticklabels=c.columns,cmap=\"Greens\");"
   ]
  },
  {
   "cell_type": "markdown",
   "id": "2ac09ed9",
   "metadata": {},
   "source": [
    "## Define features and target"
   ]
  },
  {
   "cell_type": "code",
   "execution_count": null,
   "id": "88c0aee0",
   "metadata": {},
   "outputs": [],
   "source": [
    "X = df1.drop(columns=['Q186'])\n",
    "y = df1['Q186']"
   ]
  },
  {
   "cell_type": "markdown",
   "id": "0a4e8f31",
   "metadata": {},
   "source": [
    "## Split to train and test"
   ]
  },
  {
   "cell_type": "code",
   "execution_count": null,
   "id": "5ba267bb",
   "metadata": {},
   "outputs": [],
   "source": [
    "X_train,X_test,y_train,y_test=model_selection.train_test_split(X, y,\n",
    "        test_size = 0.30,\n",
    "        random_state=42,\n",
    "        shuffle=True)"
   ]
  },
  {
   "cell_type": "markdown",
   "id": "9fc8594c",
   "metadata": {},
   "source": [
    "## Linear Regression"
   ]
  },
  {
   "cell_type": "code",
   "execution_count": null,
   "id": "e492096a",
   "metadata": {},
   "outputs": [],
   "source": [
    "\n",
    "X2_train = sm.add_constant(X_train)\n",
    "X2_test = sm.add_constant(X_test)\n",
    "est = sm.OLS(y_train, X2_train)\n",
    "est2 = est.fit()\n",
    "print (\"In-Sample: %s\" % r2_score(y_train, est2.predict(X2_train)))\n",
    "print (\"Out-of-Sample: %s\" % r2_score(y_test, est2.predict(X2_test)))\n",
    "print(\"\\n\")\n",
    "print(est2.summary())\n",
    "   "
   ]
  },
  {
   "cell_type": "markdown",
   "id": "e2881345",
   "metadata": {},
   "source": [
    "## XGBoost fit"
   ]
  },
  {
   "cell_type": "code",
   "execution_count": null,
   "id": "fa615f8b",
   "metadata": {},
   "outputs": [],
   "source": [
    "eval_set = [(X_train, y_train), (X_test, y_test)] #error logs container during training\n",
    "bst = xgb.XGBRegressor(objective ='reg:squarederror',\n",
    "                       max_depth=5,\n",
    "                       n_estimators=200,\n",
    "                       eta = 0.03,\n",
    "                       tree_method='gpu_hist', \n",
    "                       gpu_id=3)\n",
    "bst.fit(X_train, y_train, eval_set=eval_set, eval_metric= \"rmse\", verbose=False)\n",
    "print (\"Out-of-Sample: %s\" % metrics.r2_score(y_test, bst.predict(X_test)))\n",
    "print (\"In-Sample: %s\" % metrics.r2_score(y_train, bst.predict(X_train)))"
   ]
  },
  {
   "cell_type": "code",
   "execution_count": null,
   "id": "6afa4881",
   "metadata": {},
   "outputs": [],
   "source": [
    "from xgboost import plot_tree\n",
    "fig, ax = plt.subplots(figsize=(100, 100))\n",
    "xgb.plot_tree(bst, num_trees=4, ax=ax)\n",
    "plt.show()"
   ]
  },
  {
   "cell_type": "markdown",
   "id": "eb9f42d3",
   "metadata": {},
   "source": [
    "## Clustering"
   ]
  },
  {
   "cell_type": "code",
   "execution_count": null,
   "id": "a512e3a0",
   "metadata": {},
   "outputs": [],
   "source": [
    "import matplotlib.pyplot as plt\n",
    "from sklearn.datasets import make_blobs\n",
    "from sklearn.cluster import KMeans\n",
    "from sklearn.metrics import silhouette_score\n"
   ]
  },
  {
   "cell_type": "code",
   "execution_count": null,
   "id": "648ccbc5",
   "metadata": {},
   "outputs": [],
   "source": [
    "kmeans = KMeans(\n",
    "   init=\"random\",\n",
    "   n_clusters=3,\n",
    "   n_init=10,\n",
    "   max_iter=300,\n",
    "   random_state=42)"
   ]
  },
  {
   "cell_type": "code",
   "execution_count": null,
   "id": "9128cb18",
   "metadata": {},
   "outputs": [],
   "source": [
    "kmeans.fit(df1)"
   ]
  },
  {
   "cell_type": "code",
   "execution_count": null,
   "id": "0621502b",
   "metadata": {},
   "outputs": [],
   "source": [
    "# The lowest SSE value\n",
    "print(kmeans.inertia_)\n",
    "\n",
    "# Final locations of the centroid\n",
    "print(kmeans.cluster_centers_)\n",
    "\n",
    "# The number of iterations required to converge\n",
    "print(kmeans.n_iter_)\n",
    "    "
   ]
  },
  {
   "cell_type": "code",
   "execution_count": null,
   "id": "5f40fd9b",
   "metadata": {},
   "outputs": [],
   "source": [
    "kmeans.labels_[:5]"
   ]
  },
  {
   "cell_type": "code",
   "execution_count": null,
   "id": "f1633b6b",
   "metadata": {},
   "outputs": [],
   "source": [
    "kmeans_kwargs = {\n",
    "\"init\": \"random\",\n",
    "\"n_init\": 10,\n",
    "\"max_iter\": 300,\n",
    "\"random_state\": 42,\n",
    "}\n",
    "\n",
    "# A list holds the SSE values for each k\n",
    "sse = []\n",
    "for k in range(1, 11):\n",
    "    kmeans = KMeans(n_clusters=k, **kmeans_kwargs)\n",
    "    kmeans.fit(df1)\n",
    "    sse.append(kmeans.inertia_)"
   ]
  },
  {
   "cell_type": "code",
   "execution_count": null,
   "id": "202ed34e",
   "metadata": {},
   "outputs": [],
   "source": [
    "plt.style.use(\"fivethirtyeight\")\n",
    "plt.plot(range(1, 11), sse)\n",
    "plt.xticks(range(1, 11))\n",
    "plt.xlabel(\"Number of Clusters\")\n",
    "plt.ylabel(\"SSE\")\n",
    "plt.show()\n",
    "    "
   ]
  },
  {
   "cell_type": "code",
   "execution_count": null,
   "id": "e6797a3d",
   "metadata": {},
   "outputs": [],
   "source": [
    "# A list holds the silhouette coefficients for each k\n",
    "silhouette_coefficients = []\n",
    "\n",
    "# Notice you start at 2 clusters for silhouette coefficient\n",
    "for k in range(2, 11):\n",
    "    kmeans = KMeans(n_clusters=k, **kmeans_kwargs)\n",
    "    kmeans.fit(df1)\n",
    "    score = silhouette_score(df1, kmeans.labels_)\n",
    "    silhouette_coefficients.append(score)"
   ]
  },
  {
   "cell_type": "code",
   "execution_count": null,
   "id": "74ccb7f7",
   "metadata": {},
   "outputs": [],
   "source": [
    "silhouette_coefficients"
   ]
  },
  {
   "cell_type": "code",
   "execution_count": null,
   "id": "83a569d6",
   "metadata": {},
   "outputs": [],
   "source": [
    "plt.style.use(\"fivethirtyeight\")\n",
    "plt.plot(range(2, 11), silhouette_coefficients)\n",
    "plt.xticks(range(2, 11))\n",
    "plt.xlabel(\"Number of Clusters\")\n",
    "plt.ylabel(\"Silhouette Coefficient\")\n",
    "plt.show()"
   ]
  },
  {
   "cell_type": "code",
   "execution_count": null,
   "id": "ab559d3c",
   "metadata": {},
   "outputs": [],
   "source": []
  },
  {
   "cell_type": "code",
   "execution_count": null,
   "id": "5e35e9c8",
   "metadata": {},
   "outputs": [],
   "source": []
  },
  {
   "cell_type": "code",
   "execution_count": null,
   "id": "f6828bb8",
   "metadata": {},
   "outputs": [],
   "source": [
    "df_r_test = df_r[(df_r.Q1.isin([1,2,3,4])) & (df_r.Q2.isin([1,2,3,4]))][['Q1','Q2']]"
   ]
  },
  {
   "cell_type": "code",
   "execution_count": null,
   "id": "c799a4f0",
   "metadata": {},
   "outputs": [],
   "source": [
    "len(df_r_test)"
   ]
  },
  {
   "cell_type": "code",
   "execution_count": null,
   "id": "b18bbc79",
   "metadata": {},
   "outputs": [],
   "source": [
    "n = np.sum(df_r_test)"
   ]
  },
  {
   "cell_type": "code",
   "execution_count": null,
   "id": "a7cc009e",
   "metadata": {},
   "outputs": [],
   "source": [
    "n"
   ]
  },
  {
   "cell_type": "code",
   "execution_count": null,
   "id": "bd5f98b0",
   "metadata": {},
   "outputs": [],
   "source": [
    "import scipy.stats as stats\n",
    "X2 = stats.chi2_contingency(df_r_test, correction=False)[0]"
   ]
  },
  {
   "cell_type": "code",
   "execution_count": null,
   "id": "9c534bb4",
   "metadata": {},
   "outputs": [],
   "source": [
    "X2"
   ]
  },
  {
   "cell_type": "code",
   "execution_count": null,
   "id": "a2761ef4",
   "metadata": {},
   "outputs": [],
   "source": [
    "n = np.sum(df_r_test)\n",
    "minDim = min(df_r_test.shape)-1\n",
    "\n",
    "#calculate Cramer's V \n",
    "V = np.sqrt((X2/n) / minDim)\n",
    "\n",
    "#display Cramer's V\n",
    "print(V)"
   ]
  },
  {
   "cell_type": "code",
   "execution_count": null,
   "id": "5ac5c776",
   "metadata": {},
   "outputs": [],
   "source": [
    "df_r_test.groupby().count() "
   ]
  },
  {
   "cell_type": "code",
   "execution_count": null,
   "id": "fcd1fac1",
   "metadata": {},
   "outputs": [],
   "source": [
    "plt.hist(df_r.Q177, bins = 50);\n"
   ]
  },
  {
   "cell_type": "code",
   "execution_count": null,
   "id": "369512f1",
   "metadata": {},
   "outputs": [],
   "source": [
    "df_r.Q177.mean()"
   ]
  },
  {
   "cell_type": "code",
   "execution_count": null,
   "id": "d8eb4710",
   "metadata": {},
   "outputs": [],
   "source": [
    "df_r.Q177.std()"
   ]
  },
  {
   "cell_type": "code",
   "execution_count": null,
   "id": "72c199a5",
   "metadata": {},
   "outputs": [],
   "source": [
    "len(df_r.Q177)"
   ]
  },
  {
   "cell_type": "code",
   "execution_count": null,
   "id": "fd06be34",
   "metadata": {},
   "outputs": [],
   "source": [
    "df_r.replace(-5,np.nan,inplace=True)\n",
    "df_r.replace(-4,np.nan,inplace=True)\n",
    "df_r.replace(-2,np.nan,inplace=True)\n",
    "df_r.replace(-1,np.nan,inplace=True)\n",
    "\n",
    "\n",
    "# -1-.- Don´t know\n",
    "# -2-.- No answer\n",
    "# -4-.- Not asked\n",
    "# -5-.- Missing; Not available"
   ]
  }
 ],
 "metadata": {
  "kernelspec": {
   "display_name": "Python 3 (ipykernel)",
   "language": "python",
   "name": "python3"
  },
  "language_info": {
   "codemirror_mode": {
    "name": "ipython",
    "version": 3
   },
   "file_extension": ".py",
   "mimetype": "text/x-python",
   "name": "python",
   "nbconvert_exporter": "python",
   "pygments_lexer": "ipython3",
   "version": "3.8.2"
  }
 },
 "nbformat": 4,
 "nbformat_minor": 5
}
