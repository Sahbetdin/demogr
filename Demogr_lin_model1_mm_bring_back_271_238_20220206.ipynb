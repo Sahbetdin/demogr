{
 "cells": [
  {
   "cell_type": "markdown",
   "id": "216a6ebf",
   "metadata": {},
   "source": [
    "### Exploratory analysis and Linear regression"
   ]
  },
  {
   "cell_type": "markdown",
   "id": "de8c5e24",
   "metadata": {},
   "source": [
    "### Work with Russia ( no.643 )"
   ]
  },
  {
   "cell_type": "code",
   "execution_count": 1,
   "id": "92ecfbc7",
   "metadata": {},
   "outputs": [],
   "source": [
    "%run -i imports.py\n",
    "with open(\"only_rus.pck\", \"br\") as f:\n",
    "    df_r=pickle.load(f)"
   ]
  },
  {
   "cell_type": "code",
   "execution_count": 2,
   "id": "ec88e15b",
   "metadata": {},
   "outputs": [
    {
     "data": {
      "text/plain": [
       "1810"
      ]
     },
     "execution_count": 2,
     "metadata": {},
     "output_type": "execute_result"
    }
   ],
   "source": [
    "len(df_r)"
   ]
  },
  {
   "cell_type": "markdown",
   "id": "54585d4d-ea6b-44b4-8604-092c72739ec3",
   "metadata": {},
   "source": [
    "| Question | Meaning | Range | Possible answers type\n",
    "| --- | --- | --- | --- |\n",
    "| \"H_URBRURAL\" | Urban-Rural Settlement type | 1.- Urban, 2.- Rural | one-hot! |\n",
    "| \"Q1\" | Importance in life: Family | 1.- Very important, 4.- Not at all important | continuous |\n",
    "|\"Q3\" |  Importance in life: Leisure time |1.- Very important, 4.- Not at all important| continuous |\n",
    "|\"Q5\" |  Importance in life: Work |1.- Very important, 4.- Not at all important| continuous |\n",
    "|\"Q18\" | Neighbors: Drug addicts | 1.- Mentioned, 2.- Not mentioned | one-hot! |\n",
    "|\"Q19\" | Neighbors: People of a different race | 1.- Mentioned, 2.- Not mentioned | one-hot! |\n",
    "|\"Q20\" | Neighbors: People who have AIDS |1.- Mentioned, 2.- Not mentioned | one-hot! |\n",
    "|\"Q21\" | Neighbors: Immigrants/foreign workers | 1.- Mentioned, 2.- Not mentioned | one-hot! |\n",
    "|\"Q22\" | Neighbors: Homosexuals |1.- Mentioned, 2.- Not mentioned | one-hot! |\n",
    "|\"Q23\" | Neighbors: People of a different religion | 1.- Mentioned, 2.- Not mentioned | one-hot! |\n",
    "|\"Q24\" | Neighbors: Heavy drinkers | 1.- Mentioned, 2.- Not mentioned | one-hot! |\n",
    "|\"Q33\" | Jobs scarce: Men should have more right to a job than women |1.- Agree strongly 5. Disagree strongly |continuous|\n",
    "|\"Q47\" | State of health (subjective) | 1.- Very good, 5.- Very poor |continuous|\n",
    "|\"Q58\" | How much you trust: Your family | 1.- Trust completely 4.- Do not trust at all | continuous |\n",
    "|\"Q67\" | Confidence: Television | 1.- A great deal 4.- None at all | continuous |\n",
    "|\"Q69\" | Confidence: The Police | 1.- A great deal 4.- None at all | continuous |\n",
    "|\"Q108\"| Government ́s vs individual ́s responsibility |1.- governments responsibility, 10.- People responsibility | continuous |\n",
    "|\"Q109\"| Competition good or harmful |1.- Competition is good, 10.- Competition is harmful | continuous |\n",
    "|\"Q138\"| Frequency in your neighborhood: Sexual harassment |1.- Very Frequently, 4.- Not at all frequently | continuous | \n",
    "|\"Q161\"| One of the bad effects of science is that it breaks down people's ideas of right and wrong |1.- Completely disagree, 10-comletely agree | continuous |\n",
    "|\"Q172\"| Apart from weddings and funerals, about how often do you pray? |1-often, 8-never | continuous |\n",
    "|\"Q206\"| Information source: Internet |1.- Daily, 5.- Never | continuous |\n",
    "|\"Q213\"| Social activism: Donating to a group or campaign |1.- Have done 2.- Might do 3.- Would never do | continuous |\n",
    "|\"Q238\"| Political system: Having a democratic political system |1.- Very good 2.- Fairly good 3.- Fairly bad 4.- Very bad | continuous |\n",
    "|\"Q252\"| Satisfaction with the political system performance |1 means not satisfied at all and 10 means completely satisfied | continuous |\n",
    "|\"Q260\"| Sex | 1.- Male 2.- Female | one hot|\n",
    "|\"Q262\"| age | ... | continuous\n",
    "|\"Q262sq\"| age squared | ... | continuous \n",
    "|\"Q263\"|Respondent immigrant | 1.- I am born in this country, 2.- I am an immigrant | one-hot |\n",
    "|\"Q271\"| Do you live with your parents | 1.- No 2.- Yes, own parent(s) 3.- Yes, parent(s) in law 4.- Yes, both own parent(s) and parent(s) | one-hot |\n",
    "|\"Q273\"| Marital status | 1.- Married 2.- Living together as married 3.- Divorced 4.- Separated 5.- Widowed 6.- Single (1,2 yes ; 3,4,5,6 no) | one-hot|\n",
    "|\"Q274\"| number of kids | 0.- No children 1.- 1 child 2.- 2 children 3.- 3 children 4.- 4 children 5.- 5 children 6.- 6 children 7-25.- 7 or more children | continuous |\n",
    "|\"Q275R\"|Highest educational level: Respondent (recoded into 4 groups) | 1.- Primary 2.- Secondary 3.- Post-secondary 4.- Tertiary | continuous |\n",
    "|\"Q279\"| Employment status | 1.- Full time (30 hours a week or more) 2.- Part time (less than 30 hours a week) 3.- Self employed 4.- Retired/pensioned 5.- Housewife not otherwise employed 6.- Student 7.- Unemployed 8.- Other. (1,2,3 yes ; 4,5,6,7, 8 no) |one hot |\n",
    "|\"Q288\"| Scale of incomes | 1 indicates the lowest income group and 10 the highest income group in your country | continuous|\n",
    "\n",
    "Dependent vars: <br>\n",
    "\n",
    "| Question | Meaning | Range | Possible answers type\n",
    "| --- | --- | --- | --- |\n",
    "|\"Q185\"| Justifiable: Divorce | 1.- Never justifiable, 10.- Always justifiable | continuous |\n",
    "|\"Q186\"| Justifiable: Sex before marriage | 1.- Never justifiable, 10.- Always justifiable | continuous |\n",
    "\n",
    "\n",
    "No need:<br>\n",
    "\n",
    "| Question | Meaning | Range | Possible answers type\n",
    "| --- | --- | --- | --- |\n",
    "|\"Q25\"| Neighbors: Unmarried couples living together |1.- Mentioned 2.- Not mentioned | ... |\n",
    "|\"Q26\"| Neighbors: People who speak a different language |1.- Mentioned 2.- Not mentioned | ...|\n"
   ]
  },
  {
   "cell_type": "code",
   "execution_count": 4,
   "id": "530ccbd0-d185-4fdd-afe2-34fefbe1719d",
   "metadata": {},
   "outputs": [],
   "source": [
    "# df_r"
   ]
  },
  {
   "cell_type": "code",
   "execution_count": 3,
   "id": "427e0208-7fbd-4d2e-a121-4901241345ad",
   "metadata": {},
   "outputs": [],
   "source": [
    "df_nec = df_r[[\"H_URBRURAL\",\"Q1\", \"Q3\", \"Q5\",\"Q18\",\"Q19\", \"Q20\",\"Q21\",\"Q22\",\"Q23\",\"Q24\",\"Q33\",\"Q47\",\"Q58\",\"Q67\",\"Q69\",\n",
    "\"Q108\",\"Q109\",\"Q138\",\"Q161\",\"Q172\",\"Q206\",\"Q213\",\"Q238\",\"Q252\",\"Q260\",\"Q262\",\"Q263\",\"Q271\",\"Q273\",\"Q274\",\"Q275R\",\n",
    "\"Q279\",\"Q288\", \"Q185\",\"Q186\"]].copy()"
   ]
  },
  {
   "cell_type": "markdown",
   "id": "2798fe67-79d0-4ee2-af19-90094d0d51ff",
   "metadata": {},
   "source": [
    "#### Missing values"
   ]
  },
  {
   "cell_type": "code",
   "execution_count": 6,
   "id": "1bb5f59e-809b-4999-8da5-e017b46175ac",
   "metadata": {
    "collapsed": true,
    "jupyter": {
     "outputs_hidden": true
    },
    "tags": []
   },
   "outputs": [
    {
     "name": "stdout",
     "output_type": "stream",
     "text": [
      "\u001b[93m-1 Don't know\n",
      "-2 No answer\n",
      "-5 Missing; Not available\u001b[0m\n",
      "\n",
      "\u001b[92mQ1, Importance in life: Family\u001b[0m\n",
      "-1    7\n",
      "-2    1\n",
      "Name: Q1, dtype: int64\n",
      "\n",
      "\u001b[92mQ3, Importance in life: Leisure time\u001b[0m\n",
      "-1    16\n",
      "-2     1\n",
      "Name: Q3, dtype: int64\n",
      "\n",
      "\u001b[92mQ5, Importance in life: Work\u001b[0m\n",
      "-1    13\n",
      "-2     1\n",
      "Name: Q5, dtype: int64\n",
      "\n",
      "\u001b[92mQ33, Jobs scarce: Men should have more right to a job than women\u001b[0m\n",
      "-1    17\n",
      "Name: Q33, dtype: int64\n",
      "\n",
      "\u001b[92mQ47, State of health (subjective)\u001b[0m\n",
      "-1    6\n",
      "Name: Q47, dtype: int64\n",
      "\n",
      "\u001b[92mQ58, How much you trust: Your family\u001b[0m\n",
      "-1    4\n",
      "-2    1\n",
      "Name: Q58, dtype: int64\n",
      "\n",
      "\u001b[92mQ67, Confidence: Television\u001b[0m\n",
      "-1    20\n",
      "-2     1\n",
      "Name: Q67, dtype: int64\n",
      "\n",
      "\u001b[92mQ69, Confidence: The Police\u001b[0m\n",
      "-1    48\n",
      "-2     3\n",
      "Name: Q69, dtype: int64\n",
      "\n",
      "\u001b[92mQ108, Government ́s vs individual ́s responsibility\u001b[0m\n",
      "-1    17\n",
      "-2     2\n",
      "Name: Q108, dtype: int64\n",
      "\n",
      "\u001b[92mQ109, Competition good or harmful\u001b[0m\n",
      "-1    100\n",
      "Name: Q109, dtype: int64\n",
      "\n",
      "\u001b[92mQ138, Frequency in your neighborhood: Sexual harassment\u001b[0m\n",
      "-1    200\n",
      "-2      6\n",
      "Name: Q138, dtype: int64\n",
      "\n",
      "\u001b[92mQ161, One of the bad effects of science is that it breaks down people's ideas of right and wrong\u001b[0m\n",
      "-1    97\n",
      "-2     3\n",
      "Name: Q161, dtype: int64\n",
      "\n",
      "\u001b[92mQ172, Apart from weddings and funerals, about how often do you pray?\u001b[0m\n",
      "-1    79\n",
      "-2    54\n",
      "Name: Q172, dtype: int64\n",
      "\n",
      "\u001b[92mQ206, Information source: Internet\u001b[0m\n",
      "-1    19\n",
      "-2     1\n",
      "Name: Q206, dtype: int64\n",
      "\n",
      "\u001b[92mQ213, Social activism: Donating to a group or campaign\u001b[0m\n",
      "-1    114\n",
      "-2     10\n",
      "Name: Q213, dtype: int64\n",
      "\n",
      "\u001b[92mQ238, Political system: Having a democratic political system\u001b[0m\n",
      "-1    263\n",
      "-2      8\n",
      "Name: Q238, dtype: int64\n",
      "\n",
      "\u001b[92mQ252, Satisfaction with the political system performance\u001b[0m\n",
      "-1    133\n",
      "-2      8\n",
      "Name: Q252, dtype: int64\n",
      "\n",
      "\u001b[92mQ263, Respondent immigrant\u001b[0m\n",
      "-2    1\n",
      "Name: Q263, dtype: int64\n",
      "\n",
      "\u001b[92mQ271, Do you live with your parents\u001b[0m\n",
      "-5    539\n",
      "-2     26\n",
      "Name: Q271, dtype: int64\n",
      "\n",
      "\u001b[92mQ273, Marital status\u001b[0m\n",
      "-2    23\n",
      "Name: Q273, dtype: int64\n",
      "\n",
      "\u001b[92mQ275R, Highest educational level: Respondent (recoded into 4 groups)\u001b[0m\n",
      "-1    10\n",
      "Name: Q275R, dtype: int64\n",
      "\n",
      "\u001b[92mQ279, Employment status\u001b[0m\n",
      "-2    11\n",
      "-1     4\n",
      "Name: Q279, dtype: int64\n",
      "\n",
      "\u001b[92mQ288, Scale of incomes\u001b[0m\n",
      "-1    36\n",
      "-2    27\n",
      "Name: Q288, dtype: int64\n",
      "\n",
      "\u001b[92mQ185, Justifiable: Divorce\u001b[0m\n",
      "-1    65\n",
      "-2     4\n",
      "Name: Q185, dtype: int64\n",
      "\n",
      "\u001b[92mQ186, Justifiable: Sex before marriage\u001b[0m\n",
      "-1    76\n",
      "-2     3\n",
      "Name: Q186, dtype: int64\n",
      "\n"
     ]
    }
   ],
   "source": [
    "# df_nec.isna().sum()\n",
    "#number of missing values in each column \n",
    "print(\"\\033[93m-1 Don't know\")\n",
    "print(\"-2 No answer\")\n",
    "print(\"-5 Missing; Not available\\033[0m\", end=\"\\n\\n\")\n",
    "\n",
    "for col in df_nec.columns:    \n",
    "    series = df_nec[df_nec[col] < 0][col].value_counts()\n",
    "    if not series.empty:\n",
    "        print(f\"\\033[92m{col}, {d[col]}\\033[0m\")\n",
    "        print(series)\n",
    "        print()"
   ]
  },
  {
   "cell_type": "code",
   "execution_count": 7,
   "id": "fe43d8d8-f7e6-4250-b7a6-401a28eaf8e8",
   "metadata": {
    "collapsed": true,
    "jupyter": {
     "outputs_hidden": true
    },
    "tags": []
   },
   "outputs": [
    {
     "name": "stdout",
     "output_type": "stream",
     "text": [
      "[1 2]\n"
     ]
    },
    {
     "data": {
      "image/png": "[encoded data removed]",
      "text/plain": [
       "<Figure size 720x576 with 1 Axes>"
      ]
     },
     "metadata": {
      "needs_background": "light"
     },
     "output_type": "display_data"
    },
    {
     "name": "stdout",
     "output_type": "stream",
     "text": [
      "[ 1  2  3  4 -1 -2]\n"
     ]
    },
    {
     "data": {
      "image/png": "[encoded data removed]",
      "text/plain": [
       "<Figure size 720x576 with 1 Axes>"
      ]
     },
     "metadata": {
      "needs_background": "light"
     },
     "output_type": "display_data"
    },
    {
     "name": "stdout",
     "output_type": "stream",
     "text": [
      "[ 1  2  3  4 -1 -2]\n"
     ]
    },
    {
     "data": {
      "image/png": "[encoded data removed]",
      "text/plain": [
       "<Figure size 720x576 with 1 Axes>"
      ]
     },
     "metadata": {
      "needs_background": "light"
     },
     "output_type": "display_data"
    },
    {
     "name": "stdout",
     "output_type": "stream",
     "text": [
      "[ 2  1  3 -1  4 -2]\n"
     ]
    },
    {
     "data": {
      "image/png": "[encoded data removed]",
      "text/plain": [
       "<Figure size 720x576 with 1 Axes>"
      ]
     },
     "metadata": {
      "needs_background": "light"
     },
     "output_type": "display_data"
    },
    {
     "name": "stdout",
     "output_type": "stream",
     "text": [
      "[1 2]\n"
     ]
    },
    {
     "data": {
      "image/png": "[encoded data removed]",
      "text/plain": [
       "<Figure size 720x576 with 1 Axes>"
      ]
     },
     "metadata": {
      "needs_background": "light"
     },
     "output_type": "display_data"
    },
    {
     "name": "stdout",
     "output_type": "stream",
     "text": [
      "[2 1]\n"
     ]
    },
    {
     "data": {
      "image/png": "[encoded data removed]",
      "text/plain": [
       "<Figure size 720x576 with 1 Axes>"
      ]
     },
     "metadata": {
      "needs_background": "light"
     },
     "output_type": "display_data"
    },
    {
     "name": "stdout",
     "output_type": "stream",
     "text": [
      "[1 2]\n"
     ]
    },
    {
     "data": {
      "image/png": "[encoded data removed]",
      "text/plain": [
       "<Figure size 720x576 with 1 Axes>"
      ]
     },
     "metadata": {
      "needs_background": "light"
     },
     "output_type": "display_data"
    },
    {
     "name": "stdout",
     "output_type": "stream",
     "text": [
      "[2 1]\n"
     ]
    },
    {
     "data": {
      "image/png": "[encoded data removed]",
      "text/plain": [
       "<Figure size 720x576 with 1 Axes>"
      ]
     },
     "metadata": {
      "needs_background": "light"
     },
     "output_type": "display_data"
    },
    {
     "name": "stdout",
     "output_type": "stream",
     "text": [
      "[1 2]\n"
     ]
    },
    {
     "data": {
      "image/png": "[encoded data removed]",
      "text/plain": [
       "<Figure size 720x576 with 1 Axes>"
      ]
     },
     "metadata": {
      "needs_background": "light"
     },
     "output_type": "display_data"
    },
    {
     "name": "stdout",
     "output_type": "stream",
     "text": [
      "[2 1]\n"
     ]
    },
    {
     "data": {
      "image/png": "[encoded data removed]",
      "text/plain": [
       "<Figure size 720x576 with 1 Axes>"
      ]
     },
     "metadata": {
      "needs_background": "light"
     },
     "output_type": "display_data"
    },
    {
     "name": "stdout",
     "output_type": "stream",
     "text": [
      "[1 2]\n"
     ]
    },
    {
     "data": {
      "image/png": "[encoded data removed]",
      "text/plain": [
       "<Figure size 720x576 with 1 Axes>"
      ]
     },
     "metadata": {
      "needs_background": "light"
     },
     "output_type": "display_data"
    },
    {
     "name": "stdout",
     "output_type": "stream",
     "text": [
      "[ 2  4  5  3  1 -1]\n"
     ]
    },
    {
     "data": {
      "image/png": "[encoded data removed]",
      "text/plain": [
       "<Figure size 720x576 with 1 Axes>"
      ]
     },
     "metadata": {
      "needs_background": "light"
     },
     "output_type": "display_data"
    },
    {
     "name": "stdout",
     "output_type": "stream",
     "text": [
      "[ 1  2  3  5  4 -1]\n"
     ]
    },
    {
     "data": {
      "image/png": "[encoded data removed]",
      "text/plain": [
       "<Figure size 720x576 with 1 Axes>"
      ]
     },
     "metadata": {
      "needs_background": "light"
     },
     "output_type": "display_data"
    },
    {
     "name": "stdout",
     "output_type": "stream",
     "text": [
      "[ 1  2  3  4 -1 -2]\n"
     ]
    },
    {
     "data": {
      "image/png": "[encoded data removed]",
      "text/plain": [
       "<Figure size 720x576 with 1 Axes>"
      ]
     },
     "metadata": {
      "needs_background": "light"
     },
     "output_type": "display_data"
    },
    {
     "name": "stdout",
     "output_type": "stream",
     "text": [
      "[ 2  1  4  3 -1 -2]\n"
     ]
    },
    {
     "data": {
      "image/png": "[encoded data removed]",
      "text/plain": [
       "<Figure size 720x576 with 1 Axes>"
      ]
     },
     "metadata": {
      "needs_background": "light"
     },
     "output_type": "display_data"
    },
    {
     "name": "stdout",
     "output_type": "stream",
     "text": [
      "[ 3  2  1  4 -2 -1]\n"
     ]
    },
    {
     "data": {
      "image/png": "[encoded data removed]",
      "text/plain": [
       "<Figure size 720x576 with 1 Axes>"
      ]
     },
     "metadata": {
      "needs_background": "light"
     },
     "output_type": "display_data"
    },
    {
     "name": "stdout",
     "output_type": "stream",
     "text": [
      "[ 1  2 10  7  5  6  4  3  8  9 -1 -2]\n"
     ]
    },
    {
     "data": {
      "image/png": "[encoded data removed]",
      "text/plain": [
       "<Figure size 720x576 with 1 Axes>"
      ]
     },
     "metadata": {
      "needs_background": "light"
     },
     "output_type": "display_data"
    },
    {
     "name": "stdout",
     "output_type": "stream",
     "text": [
      "[ 1  9  6 -1  4  2  5  7  3 10  8]\n"
     ]
    },
    {
     "data": {
      "image/png": "[encoded data removed]",
      "text/plain": [
       "<Figure size 720x576 with 1 Axes>"
      ]
     },
     "metadata": {
      "needs_background": "light"
     },
     "output_type": "display_data"
    },
    {
     "name": "stdout",
     "output_type": "stream",
     "text": [
      "[ 4  3 -1  2 -2  1]\n"
     ]
    },
    {
     "data": {
      "image/png": "[encoded data removed]",
      "text/plain": [
       "<Figure size 720x576 with 1 Axes>"
      ]
     },
     "metadata": {
      "needs_background": "light"
     },
     "output_type": "display_data"
    },
    {
     "name": "stdout",
     "output_type": "stream",
     "text": [
      "[ 6  9  5  1 10  7  3 -1  4  2  8 -2]\n"
     ]
    },
    {
     "data": {
      "image/png": "[encoded data removed]",
      "text/plain": [
       "<Figure size 720x576 with 1 Axes>"
      ]
     },
     "metadata": {
      "needs_background": "light"
     },
     "output_type": "display_data"
    },
    {
     "name": "stdout",
     "output_type": "stream",
     "text": [
      "[ 3  5  4  2 -2  6  8  7 -1  1]\n"
     ]
    },
    {
     "data": {
      "image/png": "[encoded data removed]",
      "text/plain": [
       "<Figure size 720x576 with 1 Axes>"
      ]
     },
     "metadata": {
      "needs_background": "light"
     },
     "output_type": "display_data"
    },
    {
     "name": "stdout",
     "output_type": "stream",
     "text": [
      "[ 2  3  5  1  4 -1 -2]\n"
     ]
    },
    {
     "data": {
      "image/png": "[encoded data removed]",
      "text/plain": [
       "<Figure size 720x576 with 1 Axes>"
      ]
     },
     "metadata": {
      "needs_background": "light"
     },
     "output_type": "display_data"
    },
    {
     "name": "stdout",
     "output_type": "stream",
     "text": [
      "[ 2  3  1 -1 -2]\n"
     ]
    },
    {
     "data": {
      "image/png": "[encoded data removed]",
      "text/plain": [
       "<Figure size 720x576 with 1 Axes>"
      ]
     },
     "metadata": {
      "needs_background": "light"
     },
     "output_type": "display_data"
    },
    {
     "name": "stdout",
     "output_type": "stream",
     "text": [
      "[ 1  2  3 -1  4 -2]\n"
     ]
    },
    {
     "data": {
      "image/png": "[encoded data removed]",
      "text/plain": [
       "<Figure size 720x576 with 1 Axes>"
      ]
     },
     "metadata": {
      "needs_background": "light"
     },
     "output_type": "display_data"
    },
    {
     "name": "stdout",
     "output_type": "stream",
     "text": [
      "[ 3  7  8  4  5  6 -1 10  9  1  2 -2]\n"
     ]
    },
    {
     "data": {
      "image/png": "[encoded data removed]",
      "text/plain": [
       "<Figure size 720x576 with 1 Axes>"
      ]
     },
     "metadata": {
      "needs_background": "light"
     },
     "output_type": "display_data"
    },
    {
     "name": "stdout",
     "output_type": "stream",
     "text": [
      "[2 1]\n"
     ]
    },
    {
     "data": {
      "image/png": "[encoded data removed]",
      "text/plain": [
       "<Figure size 720x576 with 1 Axes>"
      ]
     },
     "metadata": {
      "needs_background": "light"
     },
     "output_type": "display_data"
    },
    {
     "name": "stdout",
     "output_type": "stream",
     "text": [
      "[36 58 42 47 61 69 40 78 51 28 48 72 73 80 20 26 24 57 60 67 27 71 34 43\n",
      " 70 68 53 66 52 45 49 41 62 32 56 54 25 64 39 55 74 59 44 37 18 33 29 50\n",
      " 35 65 21 31 23 22 46 30 76 82 63 75 19 86 81 87 90 38 85 77 83 79 84 88\n",
      " 91]\n"
     ]
    },
    {
     "data": {
      "image/png": "[encoded data removed]",
      "text/plain": [
       "<Figure size 720x576 with 1 Axes>"
      ]
     },
     "metadata": {
      "needs_background": "light"
     },
     "output_type": "display_data"
    },
    {
     "name": "stdout",
     "output_type": "stream",
     "text": [
      "[ 2  1 -2]\n"
     ]
    },
    {
     "data": {
      "image/png": "[encoded data removed]",
      "text/plain": [
       "<Figure size 720x576 with 1 Axes>"
      ]
     },
     "metadata": {
      "needs_background": "light"
     },
     "output_type": "display_data"
    },
    {
     "name": "stdout",
     "output_type": "stream",
     "text": [
      "[ 1 -5  2 -2  3  4]\n"
     ]
    },
    {
     "data": {
      "image/png": "[encoded data removed]",
      "text/plain": [
       "<Figure size 720x576 with 1 Axes>"
      ]
     },
     "metadata": {
      "needs_background": "light"
     },
     "output_type": "display_data"
    },
    {
     "name": "stdout",
     "output_type": "stream",
     "text": [
      "[ 1  6  5  4  3  2 -2]\n"
     ]
    },
    {
     "data": {
      "image/png": "[encoded data removed]",
      "text/plain": [
       "<Figure size 720x576 with 1 Axes>"
      ]
     },
     "metadata": {
      "needs_background": "light"
     },
     "output_type": "display_data"
    },
    {
     "name": "stdout",
     "output_type": "stream",
     "text": [
      "[2 1 0 3 6 9 4 5]\n"
     ]
    },
    {
     "data": {
      "image/png": "[encoded data removed]",
      "text/plain": [
       "<Figure size 720x576 with 1 Axes>"
      ]
     },
     "metadata": {
      "needs_background": "light"
     },
     "output_type": "display_data"
    },
    {
     "name": "stdout",
     "output_type": "stream",
     "text": [
      "[ 3  1  2 -1]\n"
     ]
    },
    {
     "data": {
      "image/png": "[encoded data removed]",
      "text/plain": [
       "<Figure size 720x576 with 1 Axes>"
      ]
     },
     "metadata": {
      "needs_background": "light"
     },
     "output_type": "display_data"
    },
    {
     "name": "stdout",
     "output_type": "stream",
     "text": [
      "[ 5  1  4  3  6  2  7 -1 -2]\n"
     ]
    },
    {
     "data": {
      "image/png": "[encoded data removed]",
      "text/plain": [
       "<Figure size 720x576 with 1 Axes>"
      ]
     },
     "metadata": {
      "needs_background": "light"
     },
     "output_type": "display_data"
    },
    {
     "name": "stdout",
     "output_type": "stream",
     "text": [
      "[ 8  6  3  4  5  9 -1  7  1  2 -2 10]\n"
     ]
    },
    {
     "data": {
      "image/png": "[encoded data removed]",
      "text/plain": [
       "<Figure size 720x576 with 1 Axes>"
      ]
     },
     "metadata": {
      "needs_background": "light"
     },
     "output_type": "display_data"
    },
    {
     "name": "stdout",
     "output_type": "stream",
     "text": [
      "[ 5  8  3  9  2  4  6 10  1 -1  7 -2]\n"
     ]
    },
    {
     "data": {
      "image/png": "[encoded data removed]",
      "text/plain": [
       "<Figure size 720x576 with 1 Axes>"
      ]
     },
     "metadata": {
      "needs_background": "light"
     },
     "output_type": "display_data"
    },
    {
     "name": "stdout",
     "output_type": "stream",
     "text": [
      "[ 8  9  3 10  2  6  5  4  1  7 -1 -2]\n"
     ]
    },
    {
     "data": {
      "image/png": "[encoded data removed]",
      "text/plain": [
       "<Figure size 720x576 with 1 Axes>"
      ]
     },
     "metadata": {
      "needs_background": "light"
     },
     "output_type": "display_data"
    }
   ],
   "source": [
    "for col in df_nec.columns:\n",
    "    plt.figure(figsize=(10,8))\n",
    "    print(df_nec[col].unique())\n",
    "    plt.title(f\"{col}, {d[col]}\")\n",
    "    plt.hist(df_nec[col])\n",
    "    plt.show()"
   ]
  },
  {
   "cell_type": "markdown",
   "id": "1a66e4b1-3a65-441c-86f5-ccce171b068d",
   "metadata": {
    "jp-MarkdownHeadingCollapsed": true,
    "tags": []
   },
   "source": [
    "#### Compare survey age distributions with 2017 stats"
   ]
  },
  {
   "cell_type": "code",
   "execution_count": 8,
   "id": "3a754aff-ffea-4484-b246-0fb134f5ef20",
   "metadata": {},
   "outputs": [],
   "source": [
    "df_stat=pd.read_csv('ages_2017.csv', header=None, names=['age_min','age_max','total','male_total','female_total',\n",
    "                                                  'total_urban','male_urban','female_urban',\n",
    "                                                   'total_rural','male_rural','female_rural'])\n",
    "df_stat=df_stat[:-1] \n",
    "popul_normed = df_stat['total'] / df_stat['total'].sum()"
   ]
  },
  {
   "cell_type": "code",
   "execution_count": 9,
   "id": "acf12cbe-c1f6-43bb-b4e1-bf38be25233a",
   "metadata": {},
   "outputs": [
    {
     "data": {
      "text/html": [
       "<div>\n",
       "<style scoped>\n",
       "    .dataframe tbody tr th:only-of-type {\n",
       "        vertical-align: middle;\n",
       "    }\n",
       "\n",
       "    .dataframe tbody tr th {\n",
       "        vertical-align: top;\n",
       "    }\n",
       "\n",
       "    .dataframe thead th {\n",
       "        text-align: right;\n",
       "    }\n",
       "</style>\n",
       "<table border=\"1\" class=\"dataframe\">\n",
       "  <thead>\n",
       "    <tr style=\"text-align: right;\">\n",
       "      <th></th>\n",
       "      <th>age_min</th>\n",
       "      <th>age_max</th>\n",
       "      <th>total</th>\n",
       "      <th>male_total</th>\n",
       "      <th>female_total</th>\n",
       "      <th>total_urban</th>\n",
       "      <th>male_urban</th>\n",
       "      <th>female_urban</th>\n",
       "      <th>total_rural</th>\n",
       "      <th>male_rural</th>\n",
       "      <th>female_rural</th>\n",
       "    </tr>\n",
       "  </thead>\n",
       "  <tbody>\n",
       "    <tr>\n",
       "      <th>0</th>\n",
       "      <td>0.0</td>\n",
       "      <td>4.0</td>\n",
       "      <td>9581740</td>\n",
       "      <td>4923684</td>\n",
       "      <td>4658056</td>\n",
       "      <td>7005894</td>\n",
       "      <td>3600662</td>\n",
       "      <td>3405232</td>\n",
       "      <td>2575846</td>\n",
       "      <td>1323022</td>\n",
       "      <td>1252824</td>\n",
       "    </tr>\n",
       "    <tr>\n",
       "      <th>1</th>\n",
       "      <td>5.0</td>\n",
       "      <td>9.0</td>\n",
       "      <td>8558662</td>\n",
       "      <td>4389167</td>\n",
       "      <td>4169495</td>\n",
       "      <td>6081392</td>\n",
       "      <td>3119305</td>\n",
       "      <td>2962087</td>\n",
       "      <td>2477270</td>\n",
       "      <td>1269862</td>\n",
       "      <td>1207408</td>\n",
       "    </tr>\n",
       "    <tr>\n",
       "      <th>2</th>\n",
       "      <td>10.0</td>\n",
       "      <td>14.0</td>\n",
       "      <td>7408271</td>\n",
       "      <td>3791237</td>\n",
       "      <td>3617034</td>\n",
       "      <td>5246041</td>\n",
       "      <td>2684632</td>\n",
       "      <td>2561409</td>\n",
       "      <td>2162230</td>\n",
       "      <td>1106605</td>\n",
       "      <td>1055625</td>\n",
       "    </tr>\n",
       "    <tr>\n",
       "      <th>3</th>\n",
       "      <td>15.0</td>\n",
       "      <td>19.0</td>\n",
       "      <td>6689989</td>\n",
       "      <td>3418141</td>\n",
       "      <td>3271848</td>\n",
       "      <td>4823795</td>\n",
       "      <td>2454068</td>\n",
       "      <td>2369727</td>\n",
       "      <td>1866194</td>\n",
       "      <td>964073</td>\n",
       "      <td>902121</td>\n",
       "    </tr>\n",
       "    <tr>\n",
       "      <th>4</th>\n",
       "      <td>20.0</td>\n",
       "      <td>24.0</td>\n",
       "      <td>7827731</td>\n",
       "      <td>3993373</td>\n",
       "      <td>3834358</td>\n",
       "      <td>5846699</td>\n",
       "      <td>2937833</td>\n",
       "      <td>2908866</td>\n",
       "      <td>1981032</td>\n",
       "      <td>1055540</td>\n",
       "      <td>925492</td>\n",
       "    </tr>\n",
       "  </tbody>\n",
       "</table>\n",
       "</div>"
      ],
      "text/plain": [
       "   age_min  age_max    total  male_total  female_total  total_urban  \\\n",
       "0      0.0      4.0  9581740     4923684       4658056      7005894   \n",
       "1      5.0      9.0  8558662     4389167       4169495      6081392   \n",
       "2     10.0     14.0  7408271     3791237       3617034      5246041   \n",
       "3     15.0     19.0  6689989     3418141       3271848      4823795   \n",
       "4     20.0     24.0  7827731     3993373       3834358      5846699   \n",
       "\n",
       "   male_urban  female_urban  total_rural  male_rural  female_rural  \n",
       "0     3600662       3405232      2575846     1323022       1252824  \n",
       "1     3119305       2962087      2477270     1269862       1207408  \n",
       "2     2684632       2561409      2162230     1106605       1055625  \n",
       "3     2454068       2369727      1866194      964073        902121  \n",
       "4     2937833       2908866      1981032     1055540        925492  "
      ]
     },
     "execution_count": 9,
     "metadata": {},
     "output_type": "execute_result"
    }
   ],
   "source": [
    "df_stat.head()"
   ]
  },
  {
   "cell_type": "code",
   "execution_count": 10,
   "id": "5eda1a79-ccb7-450f-8725-d96101fbe1de",
   "metadata": {},
   "outputs": [
    {
     "data": {
      "image/png": "[encoded data removed]",
      "text/plain": [
       "<Figure size 432x288 with 1 Axes>"
      ]
     },
     "metadata": {
      "needs_background": "light"
     },
     "output_type": "display_data"
    }
   ],
   "source": [
    "plt.hist(df_nec['Q262']);"
   ]
  },
  {
   "cell_type": "code",
   "execution_count": 11,
   "id": "5d689d42-67f2-4aa3-8ade-e06316cce1b7",
   "metadata": {},
   "outputs": [],
   "source": [
    "n_bins = 21\n",
    "#get space for min and max ages\n",
    "tmp1 = [None] * n_bins\n",
    "tmp2 = [None] * n_bins\n",
    "\n",
    "#define bins\n",
    "for i in range(n_bins):\n",
    "    tmp1[i] = 5 * i\n",
    "    tmp2[i] = 5 * i + 4\n",
    "df_bins=pd.DataFrame({'age_min':tmp1, 'age_max':tmp2})\n",
    "#define column for number of respondents in the given range\n",
    "df_bins['count'] = 0\n",
    "#distribute respondent ages\n",
    "for i in df_nec['Q262']:\n",
    "    df_bins['count'].loc[i // 5] += 1"
   ]
  },
  {
   "cell_type": "code",
   "execution_count": 12,
   "id": "ea6acd83-af75-45b4-93e8-db2bf30e5890",
   "metadata": {},
   "outputs": [
    {
     "data": {
      "text/plain": [
       "1810"
      ]
     },
     "execution_count": 12,
     "metadata": {},
     "output_type": "execute_result"
    }
   ],
   "source": [
    "df_bins['count'].sum()"
   ]
  },
  {
   "cell_type": "code",
   "execution_count": 13,
   "id": "c32d99b6-7611-4110-a654-34157f5b0656",
   "metadata": {},
   "outputs": [],
   "source": [
    "df_bins['count_normed'] = df_bins['count'] / df_bins['count'].sum()"
   ]
  },
  {
   "cell_type": "code",
   "execution_count": 14,
   "id": "f914d019-0530-4be1-a472-171b3ed7a964",
   "metadata": {},
   "outputs": [
    {
     "data": {
      "text/html": [
       "<div>\n",
       "<style scoped>\n",
       "    .dataframe tbody tr th:only-of-type {\n",
       "        vertical-align: middle;\n",
       "    }\n",
       "\n",
       "    .dataframe tbody tr th {\n",
       "        vertical-align: top;\n",
       "    }\n",
       "\n",
       "    .dataframe thead th {\n",
       "        text-align: right;\n",
       "    }\n",
       "</style>\n",
       "<table border=\"1\" class=\"dataframe\">\n",
       "  <thead>\n",
       "    <tr style=\"text-align: right;\">\n",
       "      <th></th>\n",
       "      <th>age_min</th>\n",
       "      <th>age_max</th>\n",
       "      <th>count</th>\n",
       "      <th>count_normed</th>\n",
       "    </tr>\n",
       "  </thead>\n",
       "  <tbody>\n",
       "    <tr>\n",
       "      <th>0</th>\n",
       "      <td>0</td>\n",
       "      <td>4</td>\n",
       "      <td>0</td>\n",
       "      <td>0.000000</td>\n",
       "    </tr>\n",
       "    <tr>\n",
       "      <th>1</th>\n",
       "      <td>5</td>\n",
       "      <td>9</td>\n",
       "      <td>0</td>\n",
       "      <td>0.000000</td>\n",
       "    </tr>\n",
       "    <tr>\n",
       "      <th>2</th>\n",
       "      <td>10</td>\n",
       "      <td>14</td>\n",
       "      <td>0</td>\n",
       "      <td>0.000000</td>\n",
       "    </tr>\n",
       "    <tr>\n",
       "      <th>3</th>\n",
       "      <td>15</td>\n",
       "      <td>19</td>\n",
       "      <td>60</td>\n",
       "      <td>0.033149</td>\n",
       "    </tr>\n",
       "    <tr>\n",
       "      <th>4</th>\n",
       "      <td>20</td>\n",
       "      <td>24</td>\n",
       "      <td>135</td>\n",
       "      <td>0.074586</td>\n",
       "    </tr>\n",
       "  </tbody>\n",
       "</table>\n",
       "</div>"
      ],
      "text/plain": [
       "   age_min  age_max  count  count_normed\n",
       "0        0        4      0      0.000000\n",
       "1        5        9      0      0.000000\n",
       "2       10       14      0      0.000000\n",
       "3       15       19     60      0.033149\n",
       "4       20       24    135      0.074586"
      ]
     },
     "execution_count": 14,
     "metadata": {},
     "output_type": "execute_result"
    }
   ],
   "source": [
    "df_bins.head()"
   ]
  },
  {
   "cell_type": "code",
   "execution_count": 15,
   "id": "cc0e6ce8-df24-4375-8a57-1ec6688fa34e",
   "metadata": {},
   "outputs": [
    {
     "data": {
      "image/png": "[encoded data removed]",
      "text/plain": [
       "<Figure size 720x504 with 1 Axes>"
      ]
     },
     "metadata": {
      "needs_background": "light"
     },
     "output_type": "display_data"
    }
   ],
   "source": [
    "plt.figure(figsize=(10,7))\n",
    "\n",
    "plt.plot((df_bins['age_min']+df_bins['age_max'])*0.5, df_bins['count_normed'], color = 'b', label='Survey age histogram')\n",
    "plt.plot((df_stat['age_min']+df_stat['age_max'])*0.5, popul_normed, color = 'orange', label='Russia population 2017 histogram')\n",
    "plt.legend()\n",
    "plt.xlabel('Age group')\n",
    "plt.grid()\n",
    "plt.show()"
   ]
  },
  {
   "cell_type": "code",
   "execution_count": 17,
   "id": "e49b78ac-9e73-4827-a29f-519ee53b8022",
   "metadata": {},
   "outputs": [
    {
     "data": {
      "text/plain": [
       "0.7622138657092737"
      ]
     },
     "execution_count": 17,
     "metadata": {},
     "output_type": "execute_result"
    }
   ],
   "source": [
    "pearsonr(popul_normed, df_bins['count_normed'])[0]"
   ]
  },
  {
   "cell_type": "code",
   "execution_count": null,
   "id": "14624d16-d6e2-4792-a417-43986c18949e",
   "metadata": {},
   "outputs": [],
   "source": []
  },
  {
   "cell_type": "markdown",
   "id": "55f88367-e3c8-4b3e-b8f3-dfb4d36eaf81",
   "metadata": {},
   "source": [
    "#### Replace NaNs"
   ]
  },
  {
   "cell_type": "code",
   "execution_count": 4,
   "id": "a3d38a14-02e9-432e-b0c5-c145f1622f55",
   "metadata": {},
   "outputs": [],
   "source": [
    "#dataset with replaced nans\n",
    "df_nec_nans = df_nec.replace([-1,-2,-4,-5], np.nan)\n",
    "#define squared age\n",
    "df_nec_nans[\"Q262sq\"] = np.square(df_nec_nans[\"Q262\"]) "
   ]
  },
  {
   "cell_type": "code",
   "execution_count": 5,
   "id": "9eeb2ad2-fa82-49b2-8c42-5a195c59f2e6",
   "metadata": {},
   "outputs": [
    {
     "name": "stdout",
     "output_type": "stream",
     "text": [
      " Q271, 565, Do you live with your parents\n",
      " Q238, 271, Political system: Having a democratic political system\n",
      " Q138, 206, Frequency in your neighborhood: Sexual harassment\n",
      " Q252, 141, Satisfaction with the political system performance\n",
      " Q172, 133, Apart from weddings and funerals, about how often do you pray?\n",
      " Q213, 124, Social activism: Donating to a group or campaign\n",
      " Q161, 100, One of the bad effects of science is that it breaks down people's ideas of right and wrong\n",
      " Q109, 100, Competition good or harmful\n",
      " Q186,  79, Justifiable: Sex before marriage\n",
      " Q185,  69, Justifiable: Divorce\n",
      " Q288,  63, Scale of incomes\n",
      "  Q69,  51, Confidence: The Police\n",
      " Q273,  23, Marital status\n",
      "  Q67,  21, Confidence: Television\n",
      " Q206,  20, Information source: Internet\n",
      " Q108,  19, Government ́s vs individual ́s responsibility\n",
      "  Q33,  17, Jobs scarce: Men should have more right to a job than women\n",
      "   Q3,  17, Importance in life: Leisure time\n",
      " Q279,  15, Employment status\n",
      "   Q5,  14, Importance in life: Work\n",
      "Q275R,  10, Highest educational level: Respondent (recoded into 4 groups)\n",
      "   Q1,   8, Importance in life: Family\n",
      "  Q47,   6, State of health (subjective)\n",
      "  Q58,   5, How much you trust: Your family\n",
      " Q263,   1, Respondent immigrant\n",
      " Q274,   0, number of kids\n",
      "H_URBRURAL,   0, Urban-Rural Settlement type\n",
      " Q260,   0, Sex\n",
      "  Q24,   0, Neighbors: Heavy drinkers\n",
      "  Q23,   0, Neighbors: People of a different religion\n",
      "  Q22,   0, Neighbors: Homosexuals\n",
      "  Q21,   0, Neighbors: Immigrants/foreign workers\n",
      "  Q20,   0, Neighbors: People who have AIDS\n",
      "  Q19,   0, Neighbors: People of a different race\n",
      "  Q18,   0, Neighbors: Drug addicts\n",
      " Q262,   0, age\n",
      "Q262sq,   0, age squared\n"
     ]
    }
   ],
   "source": [
    "#number of nans in each column\n",
    "cols_nan = df_nec_nans.isna().sum()\n",
    "cols_nan = cols_nan[np.argsort(cols_nan * -1)]\n",
    "for col in cols_nan.index:\n",
    "    print(f\"{col:>5}, {cols_nan[col]:>3}, {d[col]}\")"
   ]
  },
  {
   "cell_type": "code",
   "execution_count": 6,
   "id": "2baef2e5-f105-4f10-adff-bc9bffbff91e",
   "metadata": {},
   "outputs": [],
   "source": [
    "#fill in nans with medians\n",
    "imputer = SimpleImputer(missing_values=np.nan, strategy='median')\n",
    "imputer = imputer.fit(df_nec_nans)\n",
    "df_nec_nans_med = imputer.transform(df_nec_nans)\n",
    "df_nec_nans_med = pd.DataFrame(data = df_nec_nans_med, columns= df_nec_nans.columns.values)"
   ]
  },
  {
   "cell_type": "code",
   "execution_count": 7,
   "id": "8eb0e876-8a97-45b7-8731-918f420e72e8",
   "metadata": {
    "tags": []
   },
   "outputs": [],
   "source": [
    "#make Q273, Q279 one hot and drop original\n",
    "df_nec_nans_med[\"Q273ed\"] = np.where(df_nec_nans_med[\"Q273\"]<3,1,0) #?make one-hot all answers !\n",
    "df_nec_nans_med[\"Q279ed\"] = np.where(df_nec_nans_med[\"Q279\"]<4,1,0)\n",
    "df_nec_nans_med.drop([\"Q273\",\"Q279\"], axis=1, inplace=True)\n",
    "\n",
    "\n",
    "# take age over 20 and drop first two columns with lots of nans\n",
    "df_nec_nans_med = df_nec_nans_med[ df_nec_nans_med['Q262'] >= 20 ].reset_index(drop=True)\n",
    "# .drop(['Q271','Q238'], axis=1).reset_index(drop=True)\n",
    "\n"
   ]
  },
  {
   "cell_type": "code",
   "execution_count": 15,
   "id": "f07bb73d",
   "metadata": {},
   "outputs": [
    {
     "data": {
      "text/plain": [
       "(1750, 37)"
      ]
     },
     "execution_count": 15,
     "metadata": {},
     "output_type": "execute_result"
    }
   ],
   "source": [
    "df_nec_nans_med.shape"
   ]
  },
  {
   "cell_type": "markdown",
   "id": "75158578-0e84-45c6-bf4b-67896d7fd4b8",
   "metadata": {},
   "source": [
    "##### One-hot encoding for some columns"
   ]
  },
  {
   "cell_type": "code",
   "execution_count": 11,
   "id": "04b8ef5a-0681-478c-82f8-78f45f5d76ba",
   "metadata": {},
   "outputs": [],
   "source": [
    "one_hot_cols = [\"H_URBRURAL\",\"Q18\",\"Q19\",\"Q20\",\"Q21\",\"Q22\",\"Q23\",\"Q24\",\"Q260\",\"Q263\",\"Q273ed\",\"Q279ed\"]\n",
    "df = pd.get_dummies(df_nec_nans_med,\n",
    "    prefix=one_hot_cols, \n",
    "   columns=one_hot_cols)\n",
    "one_hot_cols = ['H_URBRURAL_1.0', 'H_URBRURAL_2.0', 'Q18_1.0',\n",
    "       'Q18_2.0', 'Q19_1.0', 'Q19_2.0', 'Q20_1.0', 'Q20_2.0', 'Q21_1.0',\n",
    "       'Q21_2.0', 'Q22_1.0', 'Q22_2.0', 'Q23_1.0', 'Q23_2.0', 'Q24_1.0',\n",
    "       'Q24_2.0', 'Q260_1.0', 'Q260_2.0', 'Q263_1.0', 'Q263_2.0', 'Q273ed_0',\n",
    "       'Q273ed_1', 'Q279ed_0', 'Q279ed_1']"
   ]
  },
  {
   "cell_type": "code",
   "execution_count": 12,
   "id": "0d1d8402-3103-4775-b6a5-f65a90775c84",
   "metadata": {},
   "outputs": [
    {
     "data": {
      "text/plain": [
       "(1750, 49)"
      ]
     },
     "execution_count": 12,
     "metadata": {},
     "output_type": "execute_result"
    }
   ],
   "source": [
    "df.shape"
   ]
  },
  {
   "cell_type": "markdown",
   "id": "59040044-5d1b-41ab-8f5e-3fff0cf9b386",
   "metadata": {},
   "source": [
    "##### Min-max scaler for continuous columns"
   ]
  },
  {
   "cell_type": "markdown",
   "id": "bc6f0fff-a190-40ad-a511-15af4f3af80a",
   "metadata": {},
   "source": [
    "feat -> log(1+feat)"
   ]
  },
  {
   "cell_type": "code",
   "execution_count": 13,
   "id": "fb94d6d9-074e-4f8e-8ff9-6ca346dc6414",
   "metadata": {},
   "outputs": [],
   "source": [
    "cols = [\"Q1\",\"Q3\",\"Q5\",\"Q33\",\"Q47\",\"Q58\",\"Q67\",\"Q69\",\"Q108\",\"Q109\",\"Q138\",\"Q161\",\"Q172\",\"Q206\",\"Q213\",\"Q252\",\"Q262\",\"Q262sq\",\"Q274\",\"Q275R\",\"Q288\"]\n",
    "df_tmp = df[cols]\n",
    "# df_tmp = df.drop(one_hot_cols, axis=1)\n",
    "sc = MinMaxScaler()\n",
    "sc.fit(df_tmp)\n",
    "df_sc = sc.transform(df_tmp)\n",
    "df_sc = pd.DataFrame(data=df_sc, columns = cols)\n",
    "\n",
    "for col in cols:\n",
    "    df[col] = df_sc[col]"
   ]
  },
  {
   "cell_type": "code",
   "execution_count": 13,
   "id": "c1c1ba0e-06c8-4e01-be78-57094485d7c2",
   "metadata": {},
   "outputs": [
    {
     "data": {
      "text/html": [
       "<div>\n",
       "<style scoped>\n",
       "    .dataframe tbody tr th:only-of-type {\n",
       "        vertical-align: middle;\n",
       "    }\n",
       "\n",
       "    .dataframe tbody tr th {\n",
       "        vertical-align: top;\n",
       "    }\n",
       "\n",
       "    .dataframe thead th {\n",
       "        text-align: right;\n",
       "    }\n",
       "</style>\n",
       "<table border=\"1\" class=\"dataframe\">\n",
       "  <thead>\n",
       "    <tr style=\"text-align: right;\">\n",
       "      <th></th>\n",
       "      <th>Q1</th>\n",
       "      <th>Q3</th>\n",
       "      <th>Q5</th>\n",
       "      <th>Q33</th>\n",
       "      <th>Q47</th>\n",
       "      <th>Q58</th>\n",
       "      <th>Q67</th>\n",
       "      <th>Q69</th>\n",
       "      <th>Q108</th>\n",
       "      <th>Q109</th>\n",
       "      <th>Q138</th>\n",
       "      <th>Q161</th>\n",
       "      <th>Q172</th>\n",
       "      <th>Q206</th>\n",
       "      <th>Q213</th>\n",
       "      <th>Q238</th>\n",
       "      <th>Q252</th>\n",
       "      <th>Q262</th>\n",
       "      <th>Q271</th>\n",
       "      <th>Q274</th>\n",
       "      <th>Q275R</th>\n",
       "      <th>Q288</th>\n",
       "      <th>Q185</th>\n",
       "      <th>Q186</th>\n",
       "      <th>Q262sq</th>\n",
       "      <th>H_URBRURAL_1.0</th>\n",
       "      <th>H_URBRURAL_2.0</th>\n",
       "      <th>Q18_1.0</th>\n",
       "      <th>Q18_2.0</th>\n",
       "      <th>Q19_1.0</th>\n",
       "      <th>Q19_2.0</th>\n",
       "      <th>Q20_1.0</th>\n",
       "      <th>Q20_2.0</th>\n",
       "      <th>Q21_1.0</th>\n",
       "      <th>Q21_2.0</th>\n",
       "      <th>Q22_1.0</th>\n",
       "      <th>Q22_2.0</th>\n",
       "      <th>Q23_1.0</th>\n",
       "      <th>Q23_2.0</th>\n",
       "      <th>Q24_1.0</th>\n",
       "      <th>Q24_2.0</th>\n",
       "      <th>Q260_1.0</th>\n",
       "      <th>Q260_2.0</th>\n",
       "      <th>Q263_1.0</th>\n",
       "      <th>Q263_2.0</th>\n",
       "      <th>Q273ed_0</th>\n",
       "      <th>Q273ed_1</th>\n",
       "      <th>Q279ed_0</th>\n",
       "      <th>Q279ed_1</th>\n",
       "    </tr>\n",
       "  </thead>\n",
       "  <tbody>\n",
       "    <tr>\n",
       "      <th>0</th>\n",
       "      <td>0.000000</td>\n",
       "      <td>0.000000</td>\n",
       "      <td>0.333333</td>\n",
       "      <td>0.25</td>\n",
       "      <td>0.00</td>\n",
       "      <td>0.000000</td>\n",
       "      <td>0.333333</td>\n",
       "      <td>0.666667</td>\n",
       "      <td>0.000000</td>\n",
       "      <td>0.000000</td>\n",
       "      <td>1.000000</td>\n",
       "      <td>0.555556</td>\n",
       "      <td>0.285714</td>\n",
       "      <td>0.25</td>\n",
       "      <td>0.5</td>\n",
       "      <td>1.0</td>\n",
       "      <td>0.222222</td>\n",
       "      <td>0.225352</td>\n",
       "      <td>1.0</td>\n",
       "      <td>0.222222</td>\n",
       "      <td>1.0</td>\n",
       "      <td>0.777778</td>\n",
       "      <td>5.0</td>\n",
       "      <td>8.0</td>\n",
       "      <td>0.113691</td>\n",
       "      <td>1</td>\n",
       "      <td>0</td>\n",
       "      <td>1</td>\n",
       "      <td>0</td>\n",
       "      <td>0</td>\n",
       "      <td>1</td>\n",
       "      <td>1</td>\n",
       "      <td>0</td>\n",
       "      <td>0</td>\n",
       "      <td>1</td>\n",
       "      <td>1</td>\n",
       "      <td>0</td>\n",
       "      <td>0</td>\n",
       "      <td>1</td>\n",
       "      <td>1</td>\n",
       "      <td>0</td>\n",
       "      <td>0</td>\n",
       "      <td>1</td>\n",
       "      <td>0</td>\n",
       "      <td>1</td>\n",
       "      <td>0</td>\n",
       "      <td>1</td>\n",
       "      <td>1</td>\n",
       "      <td>0</td>\n",
       "    </tr>\n",
       "    <tr>\n",
       "      <th>1</th>\n",
       "      <td>0.000000</td>\n",
       "      <td>0.333333</td>\n",
       "      <td>0.333333</td>\n",
       "      <td>0.75</td>\n",
       "      <td>0.25</td>\n",
       "      <td>0.333333</td>\n",
       "      <td>0.333333</td>\n",
       "      <td>0.333333</td>\n",
       "      <td>0.111111</td>\n",
       "      <td>0.888889</td>\n",
       "      <td>1.000000</td>\n",
       "      <td>0.888889</td>\n",
       "      <td>0.285714</td>\n",
       "      <td>0.50</td>\n",
       "      <td>1.0</td>\n",
       "      <td>1.0</td>\n",
       "      <td>0.666667</td>\n",
       "      <td>0.535211</td>\n",
       "      <td>1.0</td>\n",
       "      <td>0.222222</td>\n",
       "      <td>1.0</td>\n",
       "      <td>0.555556</td>\n",
       "      <td>8.0</td>\n",
       "      <td>9.0</td>\n",
       "      <td>0.376094</td>\n",
       "      <td>1</td>\n",
       "      <td>0</td>\n",
       "      <td>1</td>\n",
       "      <td>0</td>\n",
       "      <td>0</td>\n",
       "      <td>1</td>\n",
       "      <td>1</td>\n",
       "      <td>0</td>\n",
       "      <td>0</td>\n",
       "      <td>1</td>\n",
       "      <td>0</td>\n",
       "      <td>1</td>\n",
       "      <td>1</td>\n",
       "      <td>0</td>\n",
       "      <td>1</td>\n",
       "      <td>0</td>\n",
       "      <td>0</td>\n",
       "      <td>1</td>\n",
       "      <td>1</td>\n",
       "      <td>0</td>\n",
       "      <td>0</td>\n",
       "      <td>1</td>\n",
       "      <td>0</td>\n",
       "      <td>1</td>\n",
       "    </tr>\n",
       "    <tr>\n",
       "      <th>2</th>\n",
       "      <td>0.333333</td>\n",
       "      <td>0.333333</td>\n",
       "      <td>0.000000</td>\n",
       "      <td>0.75</td>\n",
       "      <td>0.25</td>\n",
       "      <td>0.333333</td>\n",
       "      <td>0.333333</td>\n",
       "      <td>0.333333</td>\n",
       "      <td>1.000000</td>\n",
       "      <td>0.555556</td>\n",
       "      <td>1.000000</td>\n",
       "      <td>0.555556</td>\n",
       "      <td>0.571429</td>\n",
       "      <td>0.25</td>\n",
       "      <td>0.5</td>\n",
       "      <td>1.0</td>\n",
       "      <td>0.777778</td>\n",
       "      <td>0.309859</td>\n",
       "      <td>1.0</td>\n",
       "      <td>0.222222</td>\n",
       "      <td>1.0</td>\n",
       "      <td>0.555556</td>\n",
       "      <td>3.0</td>\n",
       "      <td>9.0</td>\n",
       "      <td>0.173074</td>\n",
       "      <td>1</td>\n",
       "      <td>0</td>\n",
       "      <td>1</td>\n",
       "      <td>0</td>\n",
       "      <td>0</td>\n",
       "      <td>1</td>\n",
       "      <td>1</td>\n",
       "      <td>0</td>\n",
       "      <td>0</td>\n",
       "      <td>1</td>\n",
       "      <td>0</td>\n",
       "      <td>1</td>\n",
       "      <td>0</td>\n",
       "      <td>1</td>\n",
       "      <td>1</td>\n",
       "      <td>0</td>\n",
       "      <td>1</td>\n",
       "      <td>0</td>\n",
       "      <td>1</td>\n",
       "      <td>0</td>\n",
       "      <td>0</td>\n",
       "      <td>1</td>\n",
       "      <td>0</td>\n",
       "      <td>1</td>\n",
       "    </tr>\n",
       "    <tr>\n",
       "      <th>3</th>\n",
       "      <td>0.333333</td>\n",
       "      <td>0.666667</td>\n",
       "      <td>0.000000</td>\n",
       "      <td>1.00</td>\n",
       "      <td>0.50</td>\n",
       "      <td>0.000000</td>\n",
       "      <td>0.000000</td>\n",
       "      <td>0.333333</td>\n",
       "      <td>0.000000</td>\n",
       "      <td>0.000000</td>\n",
       "      <td>0.666667</td>\n",
       "      <td>0.444444</td>\n",
       "      <td>0.428571</td>\n",
       "      <td>0.50</td>\n",
       "      <td>1.0</td>\n",
       "      <td>2.0</td>\n",
       "      <td>0.333333</td>\n",
       "      <td>0.380282</td>\n",
       "      <td>1.0</td>\n",
       "      <td>0.111111</td>\n",
       "      <td>1.0</td>\n",
       "      <td>0.222222</td>\n",
       "      <td>9.0</td>\n",
       "      <td>3.0</td>\n",
       "      <td>0.229539</td>\n",
       "      <td>1</td>\n",
       "      <td>0</td>\n",
       "      <td>1</td>\n",
       "      <td>0</td>\n",
       "      <td>0</td>\n",
       "      <td>1</td>\n",
       "      <td>1</td>\n",
       "      <td>0</td>\n",
       "      <td>1</td>\n",
       "      <td>0</td>\n",
       "      <td>0</td>\n",
       "      <td>1</td>\n",
       "      <td>0</td>\n",
       "      <td>1</td>\n",
       "      <td>1</td>\n",
       "      <td>0</td>\n",
       "      <td>0</td>\n",
       "      <td>1</td>\n",
       "      <td>1</td>\n",
       "      <td>0</td>\n",
       "      <td>1</td>\n",
       "      <td>0</td>\n",
       "      <td>1</td>\n",
       "      <td>0</td>\n",
       "    </tr>\n",
       "    <tr>\n",
       "      <th>4</th>\n",
       "      <td>0.000000</td>\n",
       "      <td>0.666667</td>\n",
       "      <td>0.000000</td>\n",
       "      <td>0.75</td>\n",
       "      <td>0.50</td>\n",
       "      <td>0.000000</td>\n",
       "      <td>1.000000</td>\n",
       "      <td>0.333333</td>\n",
       "      <td>0.666667</td>\n",
       "      <td>0.555556</td>\n",
       "      <td>1.000000</td>\n",
       "      <td>0.000000</td>\n",
       "      <td>0.285714</td>\n",
       "      <td>0.25</td>\n",
       "      <td>0.5</td>\n",
       "      <td>2.0</td>\n",
       "      <td>0.222222</td>\n",
       "      <td>0.577465</td>\n",
       "      <td>1.0</td>\n",
       "      <td>0.222222</td>\n",
       "      <td>1.0</td>\n",
       "      <td>0.333333</td>\n",
       "      <td>8.0</td>\n",
       "      <td>10.0</td>\n",
       "      <td>0.421393</td>\n",
       "      <td>1</td>\n",
       "      <td>0</td>\n",
       "      <td>1</td>\n",
       "      <td>0</td>\n",
       "      <td>0</td>\n",
       "      <td>1</td>\n",
       "      <td>0</td>\n",
       "      <td>1</td>\n",
       "      <td>0</td>\n",
       "      <td>1</td>\n",
       "      <td>0</td>\n",
       "      <td>1</td>\n",
       "      <td>0</td>\n",
       "      <td>1</td>\n",
       "      <td>1</td>\n",
       "      <td>0</td>\n",
       "      <td>0</td>\n",
       "      <td>1</td>\n",
       "      <td>1</td>\n",
       "      <td>0</td>\n",
       "      <td>0</td>\n",
       "      <td>1</td>\n",
       "      <td>0</td>\n",
       "      <td>1</td>\n",
       "    </tr>\n",
       "  </tbody>\n",
       "</table>\n",
       "</div>"
      ],
      "text/plain": [
       "         Q1        Q3        Q5   Q33   Q47       Q58       Q67       Q69  \\\n",
       "0  0.000000  0.000000  0.333333  0.25  0.00  0.000000  0.333333  0.666667   \n",
       "1  0.000000  0.333333  0.333333  0.75  0.25  0.333333  0.333333  0.333333   \n",
       "2  0.333333  0.333333  0.000000  0.75  0.25  0.333333  0.333333  0.333333   \n",
       "3  0.333333  0.666667  0.000000  1.00  0.50  0.000000  0.000000  0.333333   \n",
       "4  0.000000  0.666667  0.000000  0.75  0.50  0.000000  1.000000  0.333333   \n",
       "\n",
       "       Q108      Q109      Q138      Q161      Q172  Q206  Q213  Q238  \\\n",
       "0  0.000000  0.000000  1.000000  0.555556  0.285714  0.25   0.5   1.0   \n",
       "1  0.111111  0.888889  1.000000  0.888889  0.285714  0.50   1.0   1.0   \n",
       "2  1.000000  0.555556  1.000000  0.555556  0.571429  0.25   0.5   1.0   \n",
       "3  0.000000  0.000000  0.666667  0.444444  0.428571  0.50   1.0   2.0   \n",
       "4  0.666667  0.555556  1.000000  0.000000  0.285714  0.25   0.5   2.0   \n",
       "\n",
       "       Q252      Q262  Q271      Q274  Q275R      Q288  Q185  Q186    Q262sq  \\\n",
       "0  0.222222  0.225352   1.0  0.222222    1.0  0.777778   5.0   8.0  0.113691   \n",
       "1  0.666667  0.535211   1.0  0.222222    1.0  0.555556   8.0   9.0  0.376094   \n",
       "2  0.777778  0.309859   1.0  0.222222    1.0  0.555556   3.0   9.0  0.173074   \n",
       "3  0.333333  0.380282   1.0  0.111111    1.0  0.222222   9.0   3.0  0.229539   \n",
       "4  0.222222  0.577465   1.0  0.222222    1.0  0.333333   8.0  10.0  0.421393   \n",
       "\n",
       "   H_URBRURAL_1.0  H_URBRURAL_2.0  Q18_1.0  Q18_2.0  Q19_1.0  Q19_2.0  \\\n",
       "0               1               0        1        0        0        1   \n",
       "1               1               0        1        0        0        1   \n",
       "2               1               0        1        0        0        1   \n",
       "3               1               0        1        0        0        1   \n",
       "4               1               0        1        0        0        1   \n",
       "\n",
       "   Q20_1.0  Q20_2.0  Q21_1.0  Q21_2.0  Q22_1.0  Q22_2.0  Q23_1.0  Q23_2.0  \\\n",
       "0        1        0        0        1        1        0        0        1   \n",
       "1        1        0        0        1        0        1        1        0   \n",
       "2        1        0        0        1        0        1        0        1   \n",
       "3        1        0        1        0        0        1        0        1   \n",
       "4        0        1        0        1        0        1        0        1   \n",
       "\n",
       "   Q24_1.0  Q24_2.0  Q260_1.0  Q260_2.0  Q263_1.0  Q263_2.0  Q273ed_0  \\\n",
       "0        1        0         0         1         0         1         0   \n",
       "1        1        0         0         1         1         0         0   \n",
       "2        1        0         1         0         1         0         0   \n",
       "3        1        0         0         1         1         0         1   \n",
       "4        1        0         0         1         1         0         0   \n",
       "\n",
       "   Q273ed_1  Q279ed_0  Q279ed_1  \n",
       "0         1         1         0  \n",
       "1         1         0         1  \n",
       "2         1         0         1  \n",
       "3         0         1         0  \n",
       "4         1         0         1  "
      ]
     },
     "execution_count": 13,
     "metadata": {},
     "output_type": "execute_result"
    }
   ],
   "source": [
    "df.head()"
   ]
  },
  {
   "cell_type": "code",
   "execution_count": 17,
   "id": "56274ba7-4a1e-48af-bd43-a68228a0c26e",
   "metadata": {},
   "outputs": [],
   "source": [
    "c = df.corr(method='pearson')"
   ]
  },
  {
   "cell_type": "code",
   "execution_count": 18,
   "id": "3198e153-fff0-46e0-ad34-3075875fbe84",
   "metadata": {},
   "outputs": [
    {
     "data": {
      "image/png": "[encoded data removed]",
      "text/plain": [
       "<Figure size 864x720 with 2 Axes>"
      ]
     },
     "metadata": {
      "needs_background": "light"
     },
     "output_type": "display_data"
    }
   ],
   "source": [
    "plt.figure(figsize=(12, 10))\n",
    "sns.heatmap(c, \n",
    "        xticklabels=c.columns,\n",
    "        yticklabels=c.columns,cmap=\"Greens\");"
   ]
  },
  {
   "cell_type": "code",
   "execution_count": null,
   "id": "5c16253a-7623-4824-8295-622628012428",
   "metadata": {
    "tags": []
   },
   "outputs": [],
   "source": [
    "# c[np.abs(c) < 0.5]"
   ]
  },
  {
   "cell_type": "markdown",
   "id": "ecf35ad1-d736-4038-bb47-8d1174163b95",
   "metadata": {
    "tags": []
   },
   "source": [
    "#### Q185"
   ]
  },
  {
   "cell_type": "code",
   "execution_count": 19,
   "id": "052275dd-6885-42e3-b8f8-8255280ff75f",
   "metadata": {},
   "outputs": [
    {
     "data": {
      "text/plain": [
       "'Justifiable: Divorce'"
      ]
     },
     "execution_count": 19,
     "metadata": {},
     "output_type": "execute_result"
    }
   ],
   "source": [
    "d['Q185']"
   ]
  },
  {
   "cell_type": "code",
   "execution_count": 20,
   "id": "0e4d7e94-adfb-4a3f-9e75-ffcce4efe2ce",
   "metadata": {},
   "outputs": [],
   "source": [
    "X = df.drop(columns=['Q185', 'Q186'])\n",
    "pred_feat = 'Q185'\n",
    "y = df[pred_feat]"
   ]
  },
  {
   "cell_type": "code",
   "execution_count": 21,
   "id": "291d9e56-7f28-4183-900f-08171e96f5e3",
   "metadata": {},
   "outputs": [],
   "source": [
    "# X = np.log(1 + X)"
   ]
  },
  {
   "cell_type": "code",
   "execution_count": 22,
   "id": "262a0f3d-36d8-41ad-bd93-a5a439ff1930",
   "metadata": {},
   "outputs": [
    {
     "name": "stderr",
     "output_type": "stream",
     "text": [
      "/home/mansur/miniconda3/envs/trch/lib/python3.8/site-packages/statsmodels/tsa/tsatools.py:142: FutureWarning: In a future version of pandas all arguments of concat except for the argument 'objs' will be keyword-only\n",
      "  x = pd.concat(x[::order], 1)\n",
      "/home/mansur/miniconda3/envs/trch/lib/python3.8/site-packages/statsmodels/tsa/tsatools.py:142: FutureWarning: In a future version of pandas all arguments of concat except for the argument 'objs' will be keyword-only\n",
      "  x = pd.concat(x[::order], 1)\n",
      "/home/mansur/miniconda3/envs/trch/lib/python3.8/site-packages/statsmodels/tsa/tsatools.py:142: FutureWarning: In a future version of pandas all arguments of concat except for the argument 'objs' will be keyword-only\n",
      "  x = pd.concat(x[::order], 1)\n",
      "/home/mansur/miniconda3/envs/trch/lib/python3.8/site-packages/statsmodels/tsa/tsatools.py:142: FutureWarning: In a future version of pandas all arguments of concat except for the argument 'objs' will be keyword-only\n",
      "  x = pd.concat(x[::order], 1)\n",
      "/home/mansur/miniconda3/envs/trch/lib/python3.8/site-packages/statsmodels/tsa/tsatools.py:142: FutureWarning: In a future version of pandas all arguments of concat except for the argument 'objs' will be keyword-only\n",
      "  x = pd.concat(x[::order], 1)\n",
      "/home/mansur/miniconda3/envs/trch/lib/python3.8/site-packages/statsmodels/tsa/tsatools.py:142: FutureWarning: In a future version of pandas all arguments of concat except for the argument 'objs' will be keyword-only\n",
      "  x = pd.concat(x[::order], 1)\n",
      "/home/mansur/miniconda3/envs/trch/lib/python3.8/site-packages/statsmodels/tsa/tsatools.py:142: FutureWarning: In a future version of pandas all arguments of concat except for the argument 'objs' will be keyword-only\n",
      "  x = pd.concat(x[::order], 1)\n",
      "/home/mansur/miniconda3/envs/trch/lib/python3.8/site-packages/statsmodels/tsa/tsatools.py:142: FutureWarning: In a future version of pandas all arguments of concat except for the argument 'objs' will be keyword-only\n",
      "  x = pd.concat(x[::order], 1)\n",
      "/home/mansur/miniconda3/envs/trch/lib/python3.8/site-packages/statsmodels/tsa/tsatools.py:142: FutureWarning: In a future version of pandas all arguments of concat except for the argument 'objs' will be keyword-only\n",
      "  x = pd.concat(x[::order], 1)\n",
      "/home/mansur/miniconda3/envs/trch/lib/python3.8/site-packages/statsmodels/tsa/tsatools.py:142: FutureWarning: In a future version of pandas all arguments of concat except for the argument 'objs' will be keyword-only\n",
      "  x = pd.concat(x[::order], 1)\n"
     ]
    },
    {
     "name": "stdout",
     "output_type": "stream",
     "text": [
      "R2 out-of-sample: 0.07763374316357419\n",
      "R2 out-of-sample: 0.05257249339525427\n",
      "R2 out-of-sample: 0.06287863291194529\n",
      "R2 out-of-sample: 0.03015714205989517\n",
      "R2 out-of-sample: 0.0788009714697957\n",
      "R2 out-of-sample: 0.08153883349524893\n",
      "R2 out-of-sample: 0.05160453312849367\n",
      "R2 out-of-sample: 0.10637480565917379\n",
      "R2 out-of-sample: 0.1160529530488621\n",
      "R2 out-of-sample: 0.09155071033023976\n"
     ]
    }
   ],
   "source": [
    "np.random.seed(17)\n",
    "for _ in range(10):\n",
    "    r = np.random.randint(1, 200)\n",
    "\n",
    "    X_train, X_test, y_train, y_test = train_test_split(X, y, test_size = .20, shuffle=True,  random_state = r)\n",
    "    X_train2 = sm.add_constant(X_train)\n",
    "    X_test2 = sm.add_constant(X_test)\n",
    "\n",
    "    est = sm.OLS(y_train, X_train2)\n",
    "    est_fitted = est.fit()\n",
    "    pred_test = est_fitted.predict(X_test2)\n",
    "    print(f\"R2 out-of-sample: {r2_score(y_test, pred_test)}\")"
   ]
  },
  {
   "cell_type": "code",
   "execution_count": null,
   "id": "a1e02015-7d01-47fe-9893-8bbd26ec5762",
   "metadata": {},
   "outputs": [],
   "source": []
  },
  {
   "cell_type": "code",
   "execution_count": null,
   "id": "64fbdcf3-0a99-43ca-9407-d803699657ff",
   "metadata": {},
   "outputs": [],
   "source": [
    "\n",
    "X_train, X_test, y_train, y_test = train_test_split(X, y, test_size = .20, shuffle=True,  random_state = 13)\n",
    "\n",
    "X_train2 = sm.add_constant(X_train)\n",
    "X_test2 = sm.add_constant(X_test)\n",
    "\n",
    "est = sm.OLS(y_train, X_train2)\n",
    "est_fitted = est.fit()\n",
    "pred_test = est_fitted.predict(X_test2)\n",
    "print(f\"R2 out-of-sample: {r2_score(y_test, pred_test)}\")\n",
    "print(\"\\n\")\n",
    "print(est_fitted.summary())"
   ]
  },
  {
   "cell_type": "code",
   "execution_count": null,
   "id": "6625c200-457f-48df-acba-f2f3151a5ad7",
   "metadata": {},
   "outputs": [],
   "source": [
    "pred_feat"
   ]
  },
  {
   "cell_type": "code",
   "execution_count": null,
   "id": "4df701d5-7b68-4c61-9783-48b7cdbf1679",
   "metadata": {},
   "outputs": [],
   "source": [
    "plt.figure(figsize=(10,8))\n",
    "n = 50\n",
    "plt.scatter(range(y_test.shape[0])[:n], y_test[:n], label='y_true out-of-sample')\n",
    "plt.scatter(range(pred_test.shape[0])[:n], pred_test[:n], label = 'y_predicted out-of-sample')\n",
    "plt.title(f\"{pred_feat} : {d[pred_feat]}\")\n",
    "plt.legend()\n",
    "plt.show()\n"
   ]
  },
  {
   "cell_type": "code",
   "execution_count": null,
   "id": "a66cad91-9587-45ea-b47a-303b49992ad7",
   "metadata": {},
   "outputs": [],
   "source": []
  },
  {
   "cell_type": "markdown",
   "id": "0942c1b3-37b1-4a11-9aa7-6deb9a002acb",
   "metadata": {
    "tags": []
   },
   "source": [
    "#### Q186"
   ]
  },
  {
   "cell_type": "code",
   "execution_count": null,
   "id": "fd9abdbc-8798-4bb8-b34f-cda0043b8a97",
   "metadata": {},
   "outputs": [],
   "source": [
    "X = df.drop(columns=['Q185', 'Q186'])\n",
    "pred_feat = 'Q186'\n",
    "y = df[pred_feat]\n",
    "X_train, X_test, y_train, y_test = train_test_split(X, y, test_size = .20, random_state = 42)\n",
    "\n",
    "# regr = linear_model.LinearRegression() # Do not use fit_intercept = False if you have removed 1 column after dummy encoding\n",
    "# regr.fit(X_train, y_train)\n",
    "# predicted_train = regr.predict(X_train)\n",
    "# predicted_test = regr.predict(X_test)\n"
   ]
  },
  {
   "cell_type": "code",
   "execution_count": null,
   "id": "9e1ed860-0aec-4efd-918f-d279ff2e875e",
   "metadata": {},
   "outputs": [],
   "source": [
    "X_train2 = sm.add_constant(X_train)\n",
    "X_test2 = sm.add_constant(X_test)\n",
    "\n",
    "est = sm.OLS(y_train, X_train2)\n",
    "est_fitted = est.fit()\n",
    "pred_test = est_fitted.predict(X_test2)\n",
    "print(f\"R2 out-of-sample: {r2_score(y_test, pred_test)}\")\n",
    "print(\"\\n\")\n",
    "print(est_fitted.summary())"
   ]
  },
  {
   "cell_type": "code",
   "execution_count": null,
   "id": "a5e1bde3-fb1c-41f4-bc3b-26ed09dcf282",
   "metadata": {},
   "outputs": [],
   "source": [
    "from PIL import Image, ImageDraw, ImageFont\n",
    "image = Image.new('RGB', (800, 400))\n",
    "draw = ImageDraw.Draw(image)\n",
    "# font = ImageFont.truetype(\"arial.ttf\", 16)\n",
    "draw.text((0, 0), str(est_fitted.summary()))\n",
    "image = image.convert('1') # bw\n",
    "image = image.resize((600, 300), Image.ANTIALIAS)\n",
    "image.save('output.png')"
   ]
  },
  {
   "cell_type": "code",
   "execution_count": null,
   "id": "143bd31a-34a3-4280-b84c-e3307830a197",
   "metadata": {},
   "outputs": [],
   "source": [
    "plt.figure(figsize=(10,8))\n",
    "n = 50\n",
    "plt.scatter(range(y_test.shape[0])[:n], y_test[:n], label='y_true_test')\n",
    "plt.scatter(range(pred_test.shape[0])[:n], pred_test[:n], label = 'y_predicted_test')\n",
    "plt.title(f\"{pred_feat} : {d[pred_feat]}\")\n",
    "plt.legend()\n",
    "plt.show()\n"
   ]
  },
  {
   "cell_type": "code",
   "execution_count": null,
   "id": "5afe8348-597b-4c44-aafe-6b6d08ab8c1f",
   "metadata": {},
   "outputs": [],
   "source": []
  },
  {
   "cell_type": "code",
   "execution_count": null,
   "id": "2edfe50b-bcac-4f04-86a6-7d05fb9045b6",
   "metadata": {},
   "outputs": [],
   "source": []
  },
  {
   "cell_type": "code",
   "execution_count": null,
   "id": "83d30e01-d444-42f5-8c7f-23e0cf10053a",
   "metadata": {},
   "outputs": [],
   "source": []
  },
  {
   "cell_type": "code",
   "execution_count": null,
   "id": "521ecd5b-4ed9-4c51-b132-15478a6a4911",
   "metadata": {},
   "outputs": [],
   "source": []
  },
  {
   "cell_type": "code",
   "execution_count": null,
   "id": "21fc7c21-ae26-475b-8303-85307dfe42d6",
   "metadata": {},
   "outputs": [],
   "source": []
  },
  {
   "cell_type": "code",
   "execution_count": null,
   "id": "bc24335c-84a4-4f75-a7f7-d74497225e86",
   "metadata": {},
   "outputs": [],
   "source": []
  },
  {
   "cell_type": "code",
   "execution_count": null,
   "id": "f26699c5-201e-4660-8cfc-69774cb4f6e2",
   "metadata": {},
   "outputs": [],
   "source": []
  },
  {
   "cell_type": "code",
   "execution_count": null,
   "id": "fa4cac52-ad07-4de3-809d-a021a42e1c0b",
   "metadata": {},
   "outputs": [],
   "source": []
  },
  {
   "cell_type": "code",
   "execution_count": null,
   "id": "85e9ad40-5805-4e06-8240-f41010a548a7",
   "metadata": {},
   "outputs": [],
   "source": []
  },
  {
   "cell_type": "code",
   "execution_count": null,
   "id": "0cb15a56-5c56-43d6-83a7-abf375181647",
   "metadata": {},
   "outputs": [],
   "source": []
  },
  {
   "cell_type": "code",
   "execution_count": null,
   "id": "d96159df-441c-4824-a122-00f7f1009796",
   "metadata": {},
   "outputs": [],
   "source": []
  },
  {
   "cell_type": "code",
   "execution_count": null,
   "id": "ced36027-5e3b-4100-81c2-28cc85285cf0",
   "metadata": {},
   "outputs": [],
   "source": []
  },
  {
   "cell_type": "code",
   "execution_count": null,
   "id": "2847bc48-621a-4e69-ab4c-b8b8af854638",
   "metadata": {},
   "outputs": [],
   "source": []
  },
  {
   "cell_type": "code",
   "execution_count": null,
   "id": "a9d8b32f-74a0-429f-995f-6eb62edfefc1",
   "metadata": {},
   "outputs": [],
   "source": []
  },
  {
   "cell_type": "markdown",
   "id": "dd08bfa2-c5d2-4139-84be-c201e5be8f1b",
   "metadata": {},
   "source": [
    "## Clustering"
   ]
  },
  {
   "cell_type": "code",
   "execution_count": null,
   "id": "5223243a",
   "metadata": {},
   "outputs": [],
   "source": [
    "import matplotlib.pyplot as plt\n",
    "from sklearn.datasets import make_blobs\n",
    "from sklearn.cluster import KMeans\n",
    "from sklearn.metrics import silhouette_score"
   ]
  },
  {
   "cell_type": "code",
   "execution_count": null,
   "id": "d7c8c9b1",
   "metadata": {},
   "outputs": [],
   "source": [
    "kmeans = KMeans(\n",
    "   init=\"random\",\n",
    "   n_clusters=3,\n",
    "   n_init=10,\n",
    "   max_iter=300,\n",
    "   random_state=42)"
   ]
  },
  {
   "cell_type": "code",
   "execution_count": null,
   "id": "f2cded8f",
   "metadata": {},
   "outputs": [],
   "source": [
    "kmeans.fit(df)"
   ]
  },
  {
   "cell_type": "code",
   "execution_count": null,
   "id": "f561ddce",
   "metadata": {},
   "outputs": [],
   "source": [
    "# The lowest SSE value\n",
    "print(kmeans.inertia_)\n",
    "\n",
    "# Final locations of the centroid\n",
    "print(kmeans.cluster_centers_)\n",
    "\n",
    "# The number of iterations required to converge\n",
    "print(kmeans.n_iter_)\n",
    "    "
   ]
  },
  {
   "cell_type": "code",
   "execution_count": null,
   "id": "d219af66",
   "metadata": {},
   "outputs": [],
   "source": [
    "kmeans.labels_[:5]"
   ]
  },
  {
   "cell_type": "code",
   "execution_count": null,
   "id": "2bf751a5",
   "metadata": {},
   "outputs": [],
   "source": [
    "kmeans_kwargs = {\n",
    "\"init\": \"random\",\n",
    "\"n_init\": 10,\n",
    "\"max_iter\": 300,\n",
    "\"random_state\": 42,\n",
    "}\n",
    "\n",
    "# A list holds the SSE values for each k\n",
    "sse = []\n",
    "for k in range(1, 13):\n",
    "    kmeans = KMeans(n_clusters=k, **kmeans_kwargs)\n",
    "    kmeans.fit(df)\n",
    "    sse.append(kmeans.inertia_)"
   ]
  },
  {
   "cell_type": "code",
   "execution_count": null,
   "id": "d68f0075",
   "metadata": {},
   "outputs": [],
   "source": [
    "plt.style.use(\"fivethirtyeight\")\n",
    "plt.plot(range(1, 13), sse)\n",
    "plt.xticks(range(1, 13))\n",
    "plt.xlabel(\"Number of Clusters\")\n",
    "plt.ylabel(\"SSE\")\n",
    "plt.show()\n",
    "    "
   ]
  },
  {
   "cell_type": "code",
   "execution_count": null,
   "id": "978eaaf4",
   "metadata": {},
   "outputs": [],
   "source": [
    "# A list holds the silhouette coefficients for each k\n",
    "silhouette_coefficients = []\n",
    "\n",
    "# Notice you start at 2 clusters for silhouette coefficient\n",
    "for k in range(2, 11):\n",
    "    kmeans = KMeans(n_clusters=k, **kmeans_kwargs)\n",
    "    kmeans.fit(df)\n",
    "    score = silhouette_score(df, kmeans.labels_)\n",
    "    silhouette_coefficients.append(score)"
   ]
  },
  {
   "cell_type": "code",
   "execution_count": null,
   "id": "23380c6e",
   "metadata": {},
   "outputs": [],
   "source": [
    "silhouette_coefficients"
   ]
  },
  {
   "cell_type": "code",
   "execution_count": null,
   "id": "746f90a1",
   "metadata": {},
   "outputs": [],
   "source": [
    "plt.style.use(\"fivethirtyeight\")\n",
    "plt.plot(range(2, 11), silhouette_coefficients)\n",
    "plt.xticks(range(2, 11))\n",
    "plt.xlabel(\"Number of Clusters\")\n",
    "plt.ylabel(\"Silhouette Coefficient\")\n",
    "plt.show()"
   ]
  },
  {
   "cell_type": "code",
   "execution_count": null,
   "id": "aadd129c-c35d-4b7d-959b-644ddcea00ec",
   "metadata": {},
   "outputs": [],
   "source": [
    "df.columns"
   ]
  },
  {
   "cell_type": "markdown",
   "id": "0e005bfa",
   "metadata": {},
   "source": [
    "## Linear Regression on the whole dataset"
   ]
  },
  {
   "cell_type": "code",
   "execution_count": null,
   "id": "d5eb8aa8",
   "metadata": {},
   "outputs": [],
   "source": [
    "X2 = sm.add_constant(X)\n",
    "est = sm.OLS(y, X2)\n",
    "est2 = est.fit()\n",
    "print(f\"R2 on the whole dataset: {r2_score(y, est2.predict(X2))}\")\n",
    "print(\"\\n\")\n",
    "print(est2.summary())"
   ]
  },
  {
   "cell_type": "code",
   "execution_count": null,
   "id": "ba698394",
   "metadata": {},
   "outputs": [],
   "source": []
  },
  {
   "cell_type": "code",
   "execution_count": null,
   "id": "a8f193b0",
   "metadata": {},
   "outputs": [],
   "source": []
  },
  {
   "cell_type": "markdown",
   "id": "abed7912",
   "metadata": {},
   "source": [
    "## Linear Regression"
   ]
  },
  {
   "cell_type": "markdown",
   "id": "24faecb8",
   "metadata": {},
   "source": [
    "#### Split to train and test"
   ]
  },
  {
   "cell_type": "code",
   "execution_count": null,
   "id": "2286a971",
   "metadata": {},
   "outputs": [],
   "source": [
    "X_train,X_test,y_train,y_test=model_selection.train_test_split(X, y,\n",
    "        test_size = 0.30,\n",
    "        random_state=42,\n",
    "        shuffle=True)"
   ]
  },
  {
   "cell_type": "code",
   "execution_count": null,
   "id": "8bd3f58a",
   "metadata": {},
   "outputs": [],
   "source": [
    "\n",
    "X2_train = sm.add_constant(X_train)\n",
    "X2_test = sm.add_constant(X_test)\n",
    "est = sm.OLS(y_train, X2_train)\n",
    "est2 = est.fit()\n",
    "print (\"In-Sample: %s\" % r2_score(y_train, est2.predict(X2_train)))\n",
    "print (\"Out-of-Sample: %s\" % r2_score(y_test, est2.predict(X2_test)))\n",
    "print(\"\\n\")\n",
    "print(est2.summary())\n",
    "   "
   ]
  },
  {
   "cell_type": "markdown",
   "id": "36c7c8d0",
   "metadata": {},
   "source": [
    "#### boosting"
   ]
  },
  {
   "cell_type": "code",
   "execution_count": null,
   "id": "aa86eb87",
   "metadata": {},
   "outputs": [],
   "source": [
    "GPUn=0\n",
    "X_train,X_test,y_train,y_test=model_selection.train_test_split(X, y,\n",
    "        test_size = 0.30,\n",
    "        random_state=42,\n",
    "        shuffle=False)\n",
    "\n",
    "eval_set = [(X_train, y_train), (X_test, y_test)] #errors log container\n",
    "bst = xgb.XGBRegressor(objective ='reg:squarederror', \n",
    "                   max_depth=5, \n",
    "                   n_estimators=1000, #1000 \n",
    "                   eta = 0.05,\n",
    "                   random_state = 42,\n",
    "                   tree_method='gpu_hist', \n",
    "                   gpu_id=GPUn)\n",
    "bst.fit(X_train, y_train, eval_set=eval_set, eval_metric= \"rmse\", verbose=False)\n",
    "y_pred = bst.predict(X_test)\n",
    "r2_out = metrics.r2_score(y_test, y_pred)\n",
    "sp_out = pd.DataFrame({\"y_test\":y_test, \"y_pred\":y_pred}).corr(method=\"spearman\")[\"y_test\"][\"y_pred\"] #spearman\n"
   ]
  },
  {
   "cell_type": "code",
   "execution_count": null,
   "id": "02167e9c",
   "metadata": {},
   "outputs": [],
   "source": [
    "r2_out,sp_out"
   ]
  },
  {
   "cell_type": "code",
   "execution_count": null,
   "id": "d1659d16",
   "metadata": {},
   "outputs": [],
   "source": []
  },
  {
   "cell_type": "code",
   "execution_count": null,
   "id": "83888389",
   "metadata": {},
   "outputs": [],
   "source": []
  },
  {
   "cell_type": "code",
   "execution_count": null,
   "id": "5ad1d08b",
   "metadata": {},
   "outputs": [],
   "source": []
  },
  {
   "cell_type": "code",
   "execution_count": null,
   "id": "29df09f6",
   "metadata": {},
   "outputs": [],
   "source": []
  },
  {
   "cell_type": "code",
   "execution_count": null,
   "id": "ecdb8f0c",
   "metadata": {},
   "outputs": [],
   "source": []
  },
  {
   "cell_type": "code",
   "execution_count": null,
   "id": "bc9fd6e3",
   "metadata": {},
   "outputs": [],
   "source": []
  },
  {
   "cell_type": "code",
   "execution_count": null,
   "id": "eb17bd44",
   "metadata": {},
   "outputs": [],
   "source": []
  },
  {
   "cell_type": "code",
   "execution_count": null,
   "id": "01d56982",
   "metadata": {},
   "outputs": [],
   "source": []
  },
  {
   "cell_type": "code",
   "execution_count": null,
   "id": "759fb5b0",
   "metadata": {},
   "outputs": [],
   "source": [
    "# data['q'] = data['q'].astype('category')\n",
    "# data['q'] = data['q'].cat.reorder_categories(['old', 'ren', 'new'], ordered=True)\n",
    "# data['q'] = data['q'].cat.codes"
   ]
  },
  {
   "cell_type": "code",
   "execution_count": null,
   "id": "08ada87a",
   "metadata": {},
   "outputs": [],
   "source": []
  },
  {
   "cell_type": "code",
   "execution_count": null,
   "id": "8db865ac",
   "metadata": {},
   "outputs": [],
   "source": []
  },
  {
   "cell_type": "code",
   "execution_count": null,
   "id": "bb14e17f",
   "metadata": {},
   "outputs": [],
   "source": [
    "cols = list()\n",
    "for i in range(177,196):\n",
    "    cols.append('Q'+str(i))"
   ]
  },
  {
   "cell_type": "code",
   "execution_count": null,
   "id": "0735f000",
   "metadata": {},
   "outputs": [],
   "source": [
    "df_col = df_r[cols]"
   ]
  },
  {
   "cell_type": "code",
   "execution_count": null,
   "id": "96df1f7b",
   "metadata": {},
   "outputs": [],
   "source": [
    "df_col.head()"
   ]
  },
  {
   "cell_type": "code",
   "execution_count": null,
   "id": "f71ad60f",
   "metadata": {},
   "outputs": [],
   "source": [
    "# with open(\"only_rus_q177_195.pck\", \"bw\") as f:\n",
    "#     pickle.dump(df_col, f)"
   ]
  },
  {
   "cell_type": "code",
   "execution_count": null,
   "id": "07928d4c",
   "metadata": {},
   "outputs": [],
   "source": [
    "# with open(\"only_rus_q177_195.pck\", \"br\") as f:\n",
    "#     df_col=pickle.load(f)\n"
   ]
  },
  {
   "cell_type": "code",
   "execution_count": null,
   "id": "a599839f",
   "metadata": {},
   "outputs": [],
   "source": [
    "len(df_col.Q179)"
   ]
  },
  {
   "cell_type": "code",
   "execution_count": null,
   "id": "d8a71b22",
   "metadata": {},
   "outputs": [],
   "source": [
    "df_col.Q179.value_counts()"
   ]
  },
  {
   "cell_type": "code",
   "execution_count": null,
   "id": "76a590ed",
   "metadata": {},
   "outputs": [],
   "source": [
    "df1 = pd.DataFrame()\n",
    "for col in df_col.columns:\n",
    "    df1[col] = df_col[col].replace(-1,np.nan)\n",
    "    df1[col] = df_col[col].replace(-2,np.nan)\n",
    "    df1[col] = df_col[col].replace(-4,np.nan)\n",
    "    df1[col] = df_col[col].replace(-5,np.nan)"
   ]
  },
  {
   "cell_type": "code",
   "execution_count": null,
   "id": "6d213bd7",
   "metadata": {},
   "outputs": [],
   "source": [
    "df1.isna().sum()"
   ]
  },
  {
   "cell_type": "code",
   "execution_count": null,
   "id": "af7ed402",
   "metadata": {},
   "outputs": [],
   "source": [
    "df1.dropna(axis=1, inplace=True)"
   ]
  },
  {
   "cell_type": "code",
   "execution_count": null,
   "id": "50df93ad",
   "metadata": {},
   "outputs": [],
   "source": [
    "len(df1)"
   ]
  },
  {
   "cell_type": "code",
   "execution_count": null,
   "id": "5d480c8b",
   "metadata": {},
   "outputs": [],
   "source": [
    "df1 = df1/10"
   ]
  },
  {
   "cell_type": "code",
   "execution_count": null,
   "id": "2b5a6e41",
   "metadata": {},
   "outputs": [],
   "source": [
    "df1."
   ]
  },
  {
   "cell_type": "code",
   "execution_count": null,
   "id": "74264985",
   "metadata": {},
   "outputs": [],
   "source": [
    "from seaborn import distplot, pairplot"
   ]
  },
  {
   "cell_type": "code",
   "execution_count": null,
   "id": "fe186fb6",
   "metadata": {},
   "outputs": [],
   "source": [
    "pairplot(df1)"
   ]
  },
  {
   "cell_type": "markdown",
   "id": "7301c75f",
   "metadata": {},
   "source": [
    "## Corr matrix and heatmap"
   ]
  },
  {
   "cell_type": "code",
   "execution_count": null,
   "id": "40b0e70d",
   "metadata": {},
   "outputs": [],
   "source": [
    "c = df1.corr(method='pearson')"
   ]
  },
  {
   "cell_type": "code",
   "execution_count": null,
   "id": "3577ea40",
   "metadata": {},
   "outputs": [],
   "source": [
    "plt.figure(figsize=(8, 8))\n",
    "sns.heatmap(c, \n",
    "        xticklabels=c.columns,\n",
    "        yticklabels=c.columns,cmap=\"Greens\");"
   ]
  },
  {
   "cell_type": "markdown",
   "id": "94d305da",
   "metadata": {},
   "source": [
    "## Define features and target"
   ]
  },
  {
   "cell_type": "code",
   "execution_count": null,
   "id": "4388b345",
   "metadata": {},
   "outputs": [],
   "source": [
    "X = df1.drop(columns=['Q186'])\n",
    "y = df1['Q186']"
   ]
  },
  {
   "cell_type": "markdown",
   "id": "b012c394",
   "metadata": {},
   "source": [
    "## Split to train and test"
   ]
  },
  {
   "cell_type": "code",
   "execution_count": null,
   "id": "ff67bf3f",
   "metadata": {},
   "outputs": [],
   "source": [
    "X_train,X_test,y_train,y_test=model_selection.train_test_split(X, y,\n",
    "        test_size = 0.30,\n",
    "        random_state=42,\n",
    "        shuffle=True)"
   ]
  },
  {
   "cell_type": "markdown",
   "id": "24b5f77b",
   "metadata": {},
   "source": [
    "## Linear Regression"
   ]
  },
  {
   "cell_type": "code",
   "execution_count": null,
   "id": "64e33989",
   "metadata": {},
   "outputs": [],
   "source": [
    "\n",
    "X2_train = sm.add_constant(X_train)\n",
    "X2_test = sm.add_constant(X_test)\n",
    "est = sm.OLS(y_train, X2_train)\n",
    "est2 = est.fit()\n",
    "print (\"In-Sample: %s\" % r2_score(y_train, est2.predict(X2_train)))\n",
    "print (\"Out-of-Sample: %s\" % r2_score(y_test, est2.predict(X2_test)))\n",
    "print(\"\\n\")\n",
    "print(est2.summary())\n",
    "   "
   ]
  },
  {
   "cell_type": "markdown",
   "id": "82a2fb39",
   "metadata": {},
   "source": [
    "## XGBoost fit"
   ]
  },
  {
   "cell_type": "code",
   "execution_count": null,
   "id": "774e70d5",
   "metadata": {},
   "outputs": [],
   "source": [
    "eval_set = [(X_train, y_train), (X_test, y_test)] #error logs container during training\n",
    "bst = xgb.XGBRegressor(objective ='reg:squarederror',\n",
    "                       max_depth=5,\n",
    "                       n_estimators=200,\n",
    "                       eta = 0.03,\n",
    "                       tree_method='gpu_hist', \n",
    "                       gpu_id=3)\n",
    "bst.fit(X_train, y_train, eval_set=eval_set, eval_metric= \"rmse\", verbose=False)\n",
    "print (\"Out-of-Sample: %s\" % metrics.r2_score(y_test, bst.predict(X_test)))\n",
    "print (\"In-Sample: %s\" % metrics.r2_score(y_train, bst.predict(X_train)))"
   ]
  },
  {
   "cell_type": "code",
   "execution_count": null,
   "id": "38025bb3",
   "metadata": {},
   "outputs": [],
   "source": [
    "from xgboost import plot_tree\n",
    "fig, ax = plt.subplots(figsize=(100, 100))\n",
    "xgb.plot_tree(bst, num_trees=4, ax=ax)\n",
    "plt.show()"
   ]
  },
  {
   "cell_type": "code",
   "execution_count": null,
   "id": "426960f0",
   "metadata": {},
   "outputs": [],
   "source": []
  },
  {
   "cell_type": "code",
   "execution_count": null,
   "id": "dfcfab17",
   "metadata": {},
   "outputs": [],
   "source": []
  },
  {
   "cell_type": "code",
   "execution_count": null,
   "id": "dfbafded",
   "metadata": {},
   "outputs": [],
   "source": [
    "df_r_test = df_r[(df_r.Q1.isin([1,2,3,4])) & (df_r.Q2.isin([1,2,3,4]))][['Q1','Q2']]"
   ]
  },
  {
   "cell_type": "code",
   "execution_count": null,
   "id": "67866b20",
   "metadata": {},
   "outputs": [],
   "source": [
    "len(df_r_test)"
   ]
  },
  {
   "cell_type": "code",
   "execution_count": null,
   "id": "b9405f22",
   "metadata": {},
   "outputs": [],
   "source": [
    "n = np.sum(df_r_test)"
   ]
  },
  {
   "cell_type": "code",
   "execution_count": null,
   "id": "e05f87c1",
   "metadata": {},
   "outputs": [],
   "source": [
    "n"
   ]
  },
  {
   "cell_type": "code",
   "execution_count": null,
   "id": "7873bd12",
   "metadata": {},
   "outputs": [],
   "source": [
    "import scipy.stats as stats\n",
    "X2 = stats.chi2_contingency(df_r_test, correction=False)[0]"
   ]
  },
  {
   "cell_type": "code",
   "execution_count": null,
   "id": "9d21f7e5",
   "metadata": {},
   "outputs": [],
   "source": [
    "X2"
   ]
  },
  {
   "cell_type": "code",
   "execution_count": null,
   "id": "7f4a570f",
   "metadata": {},
   "outputs": [],
   "source": [
    "n = np.sum(df_r_test)\n",
    "minDim = min(df_r_test.shape)-1\n",
    "\n",
    "#calculate Cramer's V \n",
    "V = np.sqrt((X2/n) / minDim)\n",
    "\n",
    "#display Cramer's V\n",
    "print(V)"
   ]
  },
  {
   "cell_type": "code",
   "execution_count": null,
   "id": "015664ea",
   "metadata": {},
   "outputs": [],
   "source": [
    "df_r_test.groupby().count() "
   ]
  },
  {
   "cell_type": "code",
   "execution_count": null,
   "id": "99f3cdff",
   "metadata": {},
   "outputs": [],
   "source": [
    "plt.hist(df_r.Q177, bins = 50);\n"
   ]
  },
  {
   "cell_type": "code",
   "execution_count": null,
   "id": "af3950f6",
   "metadata": {},
   "outputs": [],
   "source": [
    "df_r.Q177.mean()"
   ]
  },
  {
   "cell_type": "code",
   "execution_count": null,
   "id": "3afa1de4",
   "metadata": {},
   "outputs": [],
   "source": [
    "df_r.Q177.std()"
   ]
  },
  {
   "cell_type": "code",
   "execution_count": null,
   "id": "3ee540bb",
   "metadata": {},
   "outputs": [],
   "source": [
    "len(df_r.Q177)"
   ]
  },
  {
   "cell_type": "code",
   "execution_count": null,
   "id": "782b5b72",
   "metadata": {},
   "outputs": [],
   "source": [
    "df_r.replace(-5,np.nan,inplace=True)\n",
    "df_r.replace(-4,np.nan,inplace=True)\n",
    "df_r.replace(-2,np.nan,inplace=True)\n",
    "df_r.replace(-1,np.nan,inplace=True)\n",
    "\n",
    "\n",
    "# -1-.- Don´t know\n",
    "# -2-.- No answer\n",
    "# -4-.- Not asked\n",
    "# -5-.- Missing; Not available"
   ]
  },
  {
   "cell_type": "code",
   "execution_count": null,
   "id": "7016c4aa",
   "metadata": {},
   "outputs": [],
   "source": [
    "df_r.dropna(axis=0,inplace=True)"
   ]
  },
  {
   "cell_type": "code",
   "execution_count": null,
   "id": "0eb379db",
   "metadata": {},
   "outputs": [],
   "source": []
  },
  {
   "cell_type": "code",
   "execution_count": null,
   "id": "c2e873f7",
   "metadata": {},
   "outputs": [],
   "source": []
  }
 ],
 "metadata": {
  "kernelspec": {
   "display_name": "Python 3 (ipykernel)",
   "language": "python",
   "name": "python3"
  },
  "language_info": {
   "codemirror_mode": {
    "name": "ipython",
    "version": 3
   },
   "file_extension": ".py",
   "mimetype": "text/x-python",
   "name": "python",
   "nbconvert_exporter": "python",
   "pygments_lexer": "ipython3",
   "version": "3.8.2"
  }
 },
 "nbformat": 4,
 "nbformat_minor": 5
}
